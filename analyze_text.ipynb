{
 "cells": [
  {
   "attachments": {},
   "cell_type": "markdown",
   "metadata": {},
   "source": [
    "# Preliminary analysis of text"
   ]
  },
  {
   "cell_type": "code",
   "execution_count": 1,
   "metadata": {},
   "outputs": [],
   "source": [
    "%load_ext autoreload\n",
    "%autoreload 2"
   ]
  },
  {
   "cell_type": "code",
   "execution_count": 2,
   "metadata": {},
   "outputs": [],
   "source": [
    "# import defined classes"
   ]
  },
  {
   "cell_type": "code",
   "execution_count": 3,
   "metadata": {},
   "outputs": [],
   "source": [
    "import scripts.lexical_analysis as lex\n",
    "import scripts.syntactic_analysis as syn"
   ]
  },
  {
   "cell_type": "code",
   "execution_count": 4,
   "metadata": {},
   "outputs": [],
   "source": [
    "# Try it on text from reddit_samples/"
   ]
  },
  {
   "cell_type": "code",
   "execution_count": 5,
   "metadata": {},
   "outputs": [],
   "source": [
    "sample_text = \"As a girl I would love it if people who actually had similar interests would pm. Last time I posted here, a lot of guys didnt even seem to have read or cared about my personality :(\""
   ]
  },
  {
   "cell_type": "code",
   "execution_count": 6,
   "metadata": {},
   "outputs": [
    {
     "data": {
      "text/plain": [
       "{'punct_count': 4,\n",
       " 'punct_density': 0.022099447513812154,\n",
       " 'exclamation_ratio': 0.0,\n",
       " 'question_ratio': 0.0,\n",
       " 'double_spaces': 0}"
      ]
     },
     "execution_count": 6,
     "metadata": {},
     "output_type": "execute_result"
    }
   ],
   "source": [
    "lex.analyze(sample_text)"
   ]
  },
  {
   "cell_type": "code",
   "execution_count": 7,
   "metadata": {},
   "outputs": [],
   "source": [
    "# We get features back!"
   ]
  },
  {
   "cell_type": "code",
   "execution_count": 8,
   "metadata": {},
   "outputs": [
    {
     "data": {
      "text/plain": [
       "{'sentence_lengths': [80, 100],\n",
       " 'vocabulary_size': 19,\n",
       " 'pos_tag_counts': {'NN': 6,\n",
       "  'MD': 2,\n",
       "  'VB': 3,\n",
       "  'NNS': 1,\n",
       "  'RB': 2,\n",
       "  'JJ': 3,\n",
       "  'VBD': 1,\n",
       "  'VBP': 1,\n",
       "  'VBN': 1},\n",
       " 'capitalized_words': [],\n",
       " 'word_frequencies': {'girl': 1,\n",
       "  'love': 1,\n",
       "  'people': 1,\n",
       "  'actually': 1,\n",
       "  'similar': 1,\n",
       "  'interests': 1,\n",
       "  'pm': 1,\n",
       "  'time': 1,\n",
       "  'posted': 1,\n",
       "  'lot': 1,\n",
       "  'guys': 1,\n",
       "  'didnt': 1,\n",
       "  'read': 1,\n",
       "  'cared': 1,\n",
       "  'personality': 1}}"
      ]
     },
     "execution_count": 8,
     "metadata": {},
     "output_type": "execute_result"
    }
   ],
   "source": [
    "syn.analyze(sample_text)"
   ]
  },
  {
   "cell_type": "code",
   "execution_count": 10,
   "metadata": {},
   "outputs": [],
   "source": [
    "# looks like we have some more features too!"
   ]
  },
  {
   "cell_type": "code",
   "execution_count": null,
   "metadata": {},
   "outputs": [],
   "source": []
  }
 ],
 "metadata": {
  "kernelspec": {
   "display_name": "Python 3",
   "language": "python",
   "name": "python3"
  },
  "language_info": {
   "codemirror_mode": {
    "name": "ipython",
    "version": 3
   },
   "file_extension": ".py",
   "mimetype": "text/x-python",
   "name": "python",
   "nbconvert_exporter": "python",
   "pygments_lexer": "ipython3",
   "version": "3.9.6"
  },
  "orig_nbformat": 4,
  "vscode": {
   "interpreter": {
    "hash": "31f2aee4e71d21fbe5cf8b01ff0e069b9275f58929596ceb00d14d90e3e16cd6"
   }
  }
 },
 "nbformat": 4,
 "nbformat_minor": 2
}
