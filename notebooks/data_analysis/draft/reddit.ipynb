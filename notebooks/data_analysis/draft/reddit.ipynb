{
 "cells": [
  {
   "attachments": {},
   "cell_type": "markdown",
   "metadata": {},
   "source": [
    "## Age Classificaion/Analysis of Text and Age\n",
    "\n",
    "Let's actually start with a classification model, gather the results, and then investigate.\n",
    "\n",
    "Here's the plan for the upcoming work in the notebook --\n",
    "\n",
    "- CountVectorizer (vector representation of text) on N-grams\n",
    "- Train a Naive Bayes Classifier\n",
    "- Look at most significant features\n",
    "- Form hypotheses and iterate"
   ]
  },
  {
   "cell_type": "code",
   "execution_count": 1,
   "metadata": {},
   "outputs": [],
   "source": [
    "# Import necessary libraries\n",
    "import pandas as pd\n",
    "import numpy as np\n",
    "import matplotlib.pyplot as plt"
   ]
  },
  {
   "cell_type": "code",
   "execution_count": 2,
   "metadata": {},
   "outputs": [
    {
     "data": {
      "text/html": [
       "<div>\n",
       "<style scoped>\n",
       "    .dataframe tbody tr th:only-of-type {\n",
       "        vertical-align: middle;\n",
       "    }\n",
       "\n",
       "    .dataframe tbody tr th {\n",
       "        vertical-align: top;\n",
       "    }\n",
       "\n",
       "    .dataframe thead th {\n",
       "        text-align: right;\n",
       "    }\n",
       "</style>\n",
       "<table border=\"1\" class=\"dataframe\">\n",
       "  <thead>\n",
       "    <tr style=\"text-align: right;\">\n",
       "      <th></th>\n",
       "      <th>text</th>\n",
       "      <th>age</th>\n",
       "    </tr>\n",
       "  </thead>\n",
       "  <tbody>\n",
       "    <tr>\n",
       "      <th>0</th>\n",
       "      <td>What happened to my comment....it was soo good...</td>\n",
       "      <td>te</td>\n",
       "    </tr>\n",
       "    <tr>\n",
       "      <th>1</th>\n",
       "      <td>A shit ton of censorship. And I don't mean \"de...</td>\n",
       "      <td>te</td>\n",
       "    </tr>\n",
       "    <tr>\n",
       "      <th>2</th>\n",
       "      <td>Wasn't aware of the drama between /r/askmen an...</td>\n",
       "      <td>te</td>\n",
       "    </tr>\n",
       "    <tr>\n",
       "      <th>3</th>\n",
       "      <td>Nice username  I too am from Finland</td>\n",
       "      <td>te</td>\n",
       "    </tr>\n",
       "    <tr>\n",
       "      <th>4</th>\n",
       "      <td>Your comment was on the [other post]( lol</td>\n",
       "      <td>te</td>\n",
       "    </tr>\n",
       "    <tr>\n",
       "      <th>...</th>\n",
       "      <td>...</td>\n",
       "      <td>...</td>\n",
       "    </tr>\n",
       "    <tr>\n",
       "      <th>64861</th>\n",
       "      <td>And, after 10 years of marriage, you can get 5...</td>\n",
       "      <td>th</td>\n",
       "    </tr>\n",
       "    <tr>\n",
       "      <th>64862</th>\n",
       "      <td>Yes. Thank you for this response. I don’t view...</td>\n",
       "      <td>th</td>\n",
       "    </tr>\n",
       "    <tr>\n",
       "      <th>64863</th>\n",
       "      <td>Better hope that you're contacted before someo...</td>\n",
       "      <td>th</td>\n",
       "    </tr>\n",
       "    <tr>\n",
       "      <th>64864</th>\n",
       "      <td>Thank you for this question. I also find mysel...</td>\n",
       "      <td>th</td>\n",
       "    </tr>\n",
       "    <tr>\n",
       "      <th>64865</th>\n",
       "      <td>Yes. Being able to consider working part-time ...</td>\n",
       "      <td>th</td>\n",
       "    </tr>\n",
       "  </tbody>\n",
       "</table>\n",
       "<p>64866 rows × 2 columns</p>\n",
       "</div>"
      ],
      "text/plain": [
       "                                                    text age\n",
       "0      What happened to my comment....it was soo good...  te\n",
       "1      A shit ton of censorship. And I don't mean \"de...  te\n",
       "2      Wasn't aware of the drama between /r/askmen an...  te\n",
       "3                   Nice username  I too am from Finland  te\n",
       "4              Your comment was on the [other post]( lol  te\n",
       "...                                                  ...  ..\n",
       "64861  And, after 10 years of marriage, you can get 5...  th\n",
       "64862  Yes. Thank you for this response. I don’t view...  th\n",
       "64863  Better hope that you're contacted before someo...  th\n",
       "64864  Thank you for this question. I also find mysel...  th\n",
       "64865  Yes. Being able to consider working part-time ...  th\n",
       "\n",
       "[64866 rows x 2 columns]"
      ]
     },
     "execution_count": 2,
     "metadata": {},
     "output_type": "execute_result"
    }
   ],
   "source": [
    "# Load the dataset\n",
    "data = pd.read_pickle('../../data_samples/reddit_samples/all.pkl')\n",
    "data"
   ]
  },
  {
   "cell_type": "code",
   "execution_count": 4,
   "metadata": {},
   "outputs": [
    {
     "data": {
      "image/png": "[encoded data removed]",
      "text/plain": [
       "<Figure size 640x480 with 1 Axes>"
      ]
     },
     "metadata": {},
     "output_type": "display_data"
    }
   ],
   "source": [
    "import matplotlib.pyplot as plt\n",
    "\n",
    "# Group the data by age category and count the number of occurrences\n",
    "counts = data.groupby('age').size()\n",
    "\n",
    "# Create a bar chart of the counts by age category\n",
    "plt.bar(counts.index, counts.values)\n",
    "\n",
    "# Set the axis labels and chart title\n",
    "plt.xlabel('Age Category')\n",
    "plt.ylabel('Count')\n",
    "plt.title('Distribution of Age Categories')\n",
    "\n",
    "# Show the chart\n",
    "plt.show()"
   ]
  },
  {
   "cell_type": "code",
   "execution_count": 3,
   "metadata": {},
   "outputs": [],
   "source": [
    "from sklearn.feature_extraction.text import CountVectorizer\n",
    "from sklearn.naive_bayes import MultinomialNB\n",
    "from sklearn.metrics import accuracy_score\n",
    "\n",
    "\n",
    "def train_classifier(texts, labels, ngrams):\n",
    "    # create a CountVectorizer with character-based bigrams\n",
    "    vectorizer = CountVectorizer(analyzer='char', ngram_range=ngrams, lowercase=False, stop_words=None)\n",
    "    X = vectorizer.fit_transform(texts)\n",
    "    # train the classifier and return it\n",
    "    clf = MultinomialNB()\n",
    "    clf.fit(X, labels)\n",
    "    return clf, vectorizer\n",
    "\n",
    "def train_word_classifier(texts, labels):\n",
    "    # create a CountVectorizer with words\n",
    "    vectorizer = CountVectorizer(lowercase=False, stop_words=None)\n",
    "    X = vectorizer.fit_transform(texts)\n",
    "    # train the classifier and return it\n",
    "    clf = MultinomialNB()\n",
    "    clf.fit(X, labels)\n",
    "    return clf, vectorizer\n",
    "\n",
    "def predict_age_group(classifier, vectorizer, new_text):\n",
    "    # take in a classifier as input and return the prediction\n",
    "    new_X = vectorizer.transform([new_text])\n",
    "    predicted_age_group = classifier.predict(new_X)\n",
    "    return predicted_age_group\n",
    "\n",
    "def evaluate_classifier(classifier, vectorizer, test_texts, test_labels):\n",
    "    # transform the test data\n",
    "    X_test = vectorizer.transform(test_texts)\n",
    "    # predict the age group and return score\n",
    "    predicted_age_groups = classifier.predict(X_test)\n",
    "    return accuracy_score(test_labels, predicted_age_groups)\n",
    "\n",
    "\n",
    "def analyze_features(N, clf, vec):\n",
    "    feature_names = list(vec.vocabulary_.keys())\n",
    "    log_prob = clf.feature_log_prob_\n",
    "    top_N_features = []\n",
    "    for i in range(clf.classes_.shape[0]):\n",
    "        top_N_indices = log_prob[i].argsort()[::-1][:N]\n",
    "        top_N_features.extend([feature_names[idx] for idx in top_N_indices])\n",
    "    print(\"Top {} most significant textual features:\".format(N))\n",
    "    print(top_N_features)\n"
   ]
  },
  {
   "cell_type": "code",
   "execution_count": 4,
   "metadata": {},
   "outputs": [],
   "source": [
    "from sklearn.model_selection import train_test_split\n",
    "\n",
    "train_texts, test_texts, train_labels, test_labels = train_test_split(list(data['text']), list(data['age']), test_size=0.2)"
   ]
  },
  {
   "attachments": {},
   "cell_type": "markdown",
   "metadata": {},
   "source": [
    "Let's see if preprocessing matters. But first, let's get a bench mark."
   ]
  },
  {
   "cell_type": "code",
   "execution_count": 5,
   "metadata": {},
   "outputs": [
    {
     "name": "stdout",
     "output_type": "stream",
     "text": [
      "Accuracy: 0.7005549560659781\n",
      "Top 10 most significant textual features:\n",
      "['workup', 'tradesman', 'flintstone', 'pessimisticpotatoe', 'REQUIS', 'zelda', 'futuristic', 'crick', 'Hannah', 'nerd', 'workup', 'tradesman', 'flintstone', 'REQUIS', 'futuristic', 'pessimisticpotatoe', 'zelda', 'crick', 'nerd', 'apologised', 'workup', 'tradesman', 'flintstone', 'REQUIS', 'pessimisticpotatoe', 'futuristic', 'nerd', 'zelda', 'crick', 'apologised']\n"
     ]
    }
   ],
   "source": [
    "# Train a classifier on the training data\n",
    "clf, vectorizer = train_word_classifier(train_texts, train_labels)\n",
    "\n",
    "# Evaluate the classifier on the test data\n",
    "accuracy = evaluate_classifier(clf, vectorizer, test_texts, test_labels)\n",
    "\n",
    "# Print the accuracy score\n",
    "print(\"Accuracy:\", accuracy)\n",
    "\n",
    "analyze_features(10, clf, vectorizer)"
   ]
  },
  {
   "cell_type": "code",
   "execution_count": 6,
   "metadata": {},
   "outputs": [
    {
     "name": "stdout",
     "output_type": "stream",
     "text": [
      "Accuracy: 0.6089872051795899\n",
      "Top 10 most significant textual features:\n",
      "['̱̬', 'ut', 'g(', 'ca', 'MJ', 'bp', '><', '̦͇', 't7', 'ho', '̱̬', 'ut', 'g(', 'ca', 'MJ', 'bp', 't7', '̦͇', '><', 'b:', '̱̬', 'ut', 'g(', 'ca', 'bp', 'MJ', 't7', '̦͇', '><', '…j']\n"
     ]
    }
   ],
   "source": [
    "# Train a classifier on the training data\n",
    "clf, vectorizer = train_classifier(train_texts, train_labels, (2,2))\n",
    "\n",
    "# Evaluate the classifier on the test data\n",
    "accuracy = evaluate_classifier(clf, vectorizer, test_texts, test_labels)\n",
    "\n",
    "# Print the accuracy score\n",
    "print(\"Accuracy:\", accuracy)\n",
    "analyze_features(10, clf, vectorizer)"
   ]
  },
  {
   "attachments": {},
   "cell_type": "markdown",
   "metadata": {},
   "source": [
    "Okay, let's do some preprocessing to keep all english"
   ]
  },
  {
   "cell_type": "code",
   "execution_count": 7,
   "metadata": {},
   "outputs": [],
   "source": [
    "import re\n",
    "\n",
    "def partial_preprocess_texts(texts):\n",
    "    preprocessed_texts = []\n",
    "    \n",
    "    for text in texts:        \n",
    "        # remove non-alphanumeric characters except for spaces\n",
    "        text = re.sub(r'[^a-z\\s]', '', text)\n",
    "                \n",
    "        # re-join the tokens into a single string\n",
    "        preprocessed_text = text\n",
    "        \n",
    "        preprocessed_texts.append(preprocessed_text)\n",
    "    \n",
    "    return preprocessed_texts\n"
   ]
  },
  {
   "cell_type": "code",
   "execution_count": 8,
   "metadata": {},
   "outputs": [],
   "source": [
    "partial_preprocessed_train, partial_preprocessed_test = partial_preprocess_texts(train_texts), partial_preprocess_texts(test_texts)"
   ]
  },
  {
   "cell_type": "code",
   "execution_count": 9,
   "metadata": {},
   "outputs": [
    {
     "name": "stdout",
     "output_type": "stream",
     "text": [
      "Accuracy: 0.570294435023894\n",
      "Top 10 most significant textual features:\n",
      "[' l', 'yh', ' h', 'm ', 'xx', 'wu', 'r ', 'ry', 'kl', 'zg', ' l', ' h', 'yh', 'm ', 'xx', 'wu', 'kl', 'r ', 'zg', 'ry', ' l', ' h', 'yh', 'xx', 'm ', 'wu', 'kl', 'r ', 'zg', 'ry']\n"
     ]
    }
   ],
   "source": [
    "# Train a classifier on the training data\n",
    "clf, vectorizer = train_classifier(partial_preprocessed_train, train_labels, (2,2))\n",
    "\n",
    "# Evaluate the classifier on the test data\n",
    "accuracy = evaluate_classifier(clf, vectorizer, partial_preprocessed_test, test_labels)\n",
    "\n",
    "# Print the accuracy score\n",
    "print(\"Accuracy:\", accuracy)\n",
    "analyze_features(10, clf, vectorizer)"
   ]
  },
  {
   "cell_type": "code",
   "execution_count": 10,
   "metadata": {},
   "outputs": [],
   "source": [
    "import re\n",
    "\n",
    "def preprocess_texts(texts):\n",
    "    preprocessed_texts = []\n",
    "    \n",
    "    for text in texts:\n",
    "        # lowercase the text\n",
    "        text = text.lower()\n",
    "        \n",
    "        # remove URLs and email addresses\n",
    "        text = re.sub(r'http\\S+|www\\S+|https\\S+|ftp\\S+|@\\S+', '', text, flags=re.MULTILINE)\n",
    "        \n",
    "        # remove non-alphanumeric characters except for spaces\n",
    "        text = re.sub(r'[^a-z\\s]', '', text)\n",
    "        \n",
    "        # remove extra whitespace\n",
    "        text = re.sub(r'\\s+', ' ', text).strip()\n",
    "        \n",
    "        # re-join the tokens into a single string\n",
    "        preprocessed_text = text\n",
    "        \n",
    "        preprocessed_texts.append(preprocessed_text)\n",
    "    \n",
    "    return preprocessed_texts\n"
   ]
  },
  {
   "cell_type": "code",
   "execution_count": 11,
   "metadata": {},
   "outputs": [],
   "source": [
    "preprocessed_train, preprocess_test = preprocess_texts(train_texts), preprocess_texts(test_texts)"
   ]
  },
  {
   "cell_type": "code",
   "execution_count": 12,
   "metadata": {},
   "outputs": [
    {
     "name": "stdout",
     "output_type": "stream",
     "text": [
      "Accuracy: 0.6988592569754895\n",
      "Top 10 most significant textual features:\n",
      "['bridle', 'bruised', 'two', 'glovers', 'greyhound', 'sende', 'celtics', 'joker', 'asian', 'footfingers', 'bridle', 'bruised', 'two', 'glovers', 'celtics', 'greyhound', 'footfingers', 'sende', 'joker', 'grossness', 'bruised', 'bridle', 'two', 'glovers', 'grossness', 'celtics', 'greyhound', 'sende', 'footfingers', 'eventual']\n"
     ]
    }
   ],
   "source": [
    "# Train a classifier on the training data\n",
    "clf, vectorizer = train_word_classifier(preprocessed_train, train_labels)\n",
    "\n",
    "# Evaluate the classifier on the test data\n",
    "accuracy = evaluate_classifier(clf, vectorizer, preprocess_test, test_labels)\n",
    "\n",
    "# Print the accuracy score\n",
    "print(\"Accuracy:\", accuracy)\n",
    "analyze_features(10, clf, vectorizer)"
   ]
  },
  {
   "cell_type": "code",
   "execution_count": 13,
   "metadata": {},
   "outputs": [
    {
     "data": {
      "text/plain": [
       "['im not sure what this has to do with my comment how else would they gauge academic performance without using a grading system',\n",
       " 'cause theyre happy to be done cleaning your shit',\n",
       " 'i usually dont pay that much attention to the time the only person im really answering for is op plus if the post isnt brand new like posted minutes ago and has answers my comment is gonna get flooded out anyways so i dont really care',\n",
       " 'depression is a giant bitch today is the first day with some breathing room feel ok for the most part even though i know its just the eye of the storm anyway if anyone else is struggling keep on the right',\n",
       " 'what kind of things are you doing to effortfully maintain friendships i traveled around a lot in my early s and met a lot of people that i never kept up with im trying to figure out how to re engage']"
      ]
     },
     "execution_count": 13,
     "metadata": {},
     "output_type": "execute_result"
    }
   ],
   "source": [
    "preprocessed_train[0:5]"
   ]
  },
  {
   "cell_type": "code",
   "execution_count": 14,
   "metadata": {},
   "outputs": [
    {
     "name": "stdout",
     "output_type": "stream",
     "text": [
      "Accuracy: 0.5693695082472637\n",
      "Top 10 most significant textual features:\n",
      "[' f', 'pd', 's ', 'im', 'gp', 'bj', 'ur', 'yo', 'eo', 'rn', ' f', 's ', 'pd', 'im', 'gp', 'bj', 'ur', 'rn', 'yo', 'eo', ' f', 's ', 'pd', 'gp', 'im', 'bj', 'ur', 'rn', 'yo', 'eo']\n"
     ]
    }
   ],
   "source": [
    "# Train a classifier on the training data\n",
    "clf, vectorizer = train_classifier(preprocessed_train, train_labels, (2,2))\n",
    "\n",
    "# Evaluate the classifier on the test data\n",
    "accuracy = evaluate_classifier(clf, vectorizer, preprocess_test, test_labels)\n",
    "\n",
    "# Print the accuracy score\n",
    "print(\"Accuracy:\", accuracy)\n",
    "analyze_features(10, clf, vectorizer)\n"
   ]
  },
  {
   "cell_type": "markdown",
   "metadata": {},
   "source": []
  },
  {
   "cell_type": "code",
   "execution_count": 15,
   "metadata": {},
   "outputs": [
    {
     "name": "stdout",
     "output_type": "stream",
     "text": [
      "Accuracy: 0.6988592569754895\n",
      "Top 10 most significant textual features:\n",
      "['bridle', 'bruised', 'two', 'glovers', 'greyhound', 'sende', 'celtics', 'joker', 'asian', 'footfingers', 'bridle', 'bruised', 'two', 'glovers', 'celtics', 'greyhound', 'footfingers', 'sende', 'joker', 'grossness', 'bruised', 'bridle', 'two', 'glovers', 'grossness', 'celtics', 'greyhound', 'sende', 'footfingers', 'eventual']\n"
     ]
    }
   ],
   "source": [
    "# Train a classifier on the training data\n",
    "clf, vectorizer = train_word_classifier(preprocessed_train, train_labels)\n",
    "\n",
    "# Evaluate the classifier on the test data\n",
    "accuracy = evaluate_classifier(clf, vectorizer, preprocess_test, test_labels)\n",
    "\n",
    "# Print the accuracy score\n",
    "print(\"Accuracy:\", accuracy)\n",
    "analyze_features(10, clf, vectorizer)"
   ]
  },
  {
   "attachments": {},
   "cell_type": "markdown",
   "metadata": {},
   "source": [
    "finished preprocessing vs raw data. let's see what features were learned"
   ]
  },
  {
   "attachments": {},
   "cell_type": "markdown",
   "metadata": {},
   "source": [
    "How about feature engineering?"
   ]
  },
  {
   "cell_type": "code",
   "execution_count": 16,
   "metadata": {},
   "outputs": [],
   "source": [
    "\"\"\"\n",
    "A bunch of helper functions for analysis of text, utilized by an effective main.\n",
    "The plan is to use it for feature engineering / quantitative insights on code.\n",
    "\"\"\"\n",
    "\n",
    "import string\n",
    "\n",
    "def count_double_spaces(text):\n",
    "    \"\"\"\n",
    "    number of occurrences of double spaces in the given text (thanks Dr. Han!)\n",
    "    \"\"\"\n",
    "    words = text.split()\n",
    "    count = sum([1 for w in words if '  ' in w])\n",
    "    return count\n",
    "\n",
    "  \n",
    "def count_punctuation(text):\n",
    "    \"\"\"\n",
    "    number of punctuation marks in the given text.\n",
    "    \"\"\"\n",
    "    return sum([1 for c in text if c in string.punctuation])\n",
    "\n",
    "\n",
    "def calculate_punct_density(text):\n",
    "    \"\"\"\n",
    "    punctuation density (# of punctuation / len of text)\n",
    "    \"\"\"\n",
    "    total_chars = len(text)\n",
    "    punct_count = count_punctuation(text)\n",
    "    return 0 if total_chars == 0 else punct_count / total_chars\n",
    "\n",
    "\n",
    "def count_exclamation_marks(text):\n",
    "    \"\"\"\n",
    "    number of exclamation marks\n",
    "    \"\"\"\n",
    "    return text.count('!')\n",
    "\n",
    "\n",
    "def count_question_marks(text):\n",
    "    \"\"\"\n",
    "    number of question marks\n",
    "    \"\"\"\n",
    "    return text.count('?')\n",
    "\n",
    "\n",
    "def calculate_exclamation_ratio(text):\n",
    "    \"\"\"\n",
    "    ratio of exclamation marks to the total number of punctuation marks\n",
    "    \"\"\"\n",
    "    punct_count = count_punctuation(text)\n",
    "    exclamation_count = count_exclamation_marks(text)\n",
    "    return 0 if punct_count == 0 else exclamation_count / punct_count\n",
    "\n",
    "\n",
    "def calculate_question_ratio(text):\n",
    "    \"\"\"\n",
    "    ratio of question marks to the total number of punctuation marks\n",
    "    \"\"\"\n",
    "    punct_count = count_punctuation(text)\n",
    "    question_count = count_question_marks(text)\n",
    "    return 0 if punct_count == 0 else question_count / punct_count\n",
    "\n",
    "\n",
    "def analyze(text):\n",
    "    \"\"\"\n",
    "    returns everything\n",
    "    \"\"\"\n",
    "    return {\n",
    "        \"punct_count\": count_punctuation(text),\n",
    "        \"punct_density\": calculate_punct_density(text),\n",
    "        \"exclamation_ratio\": calculate_exclamation_ratio(text),\n",
    "        \"question_ratio\": calculate_question_ratio(text),\n",
    "        \"double_spaces\": count_double_spaces(text),\n",
    "    }\n"
   ]
  },
  {
   "cell_type": "code",
   "execution_count": 17,
   "metadata": {},
   "outputs": [
    {
     "name": "stdout",
     "output_type": "stream",
     "text": [
      "Accuracy: 0.4476645598890088\n"
     ]
    }
   ],
   "source": [
    "def extract_features(texts):\n",
    "    \"\"\"\n",
    "    extract features from a list of texts using the analyze function\n",
    "    \"\"\"\n",
    "    features = []\n",
    "    for text in texts:\n",
    "        analysis = analyze(text)\n",
    "        features.append([\n",
    "            analysis[\"punct_count\"],\n",
    "            analysis[\"punct_density\"],\n",
    "            analysis[\"exclamation_ratio\"],\n",
    "            analysis[\"question_ratio\"],\n",
    "            analysis[\"double_spaces\"],\n",
    "        ])\n",
    "    return np.array(features)\n",
    "\n",
    "def train_model(X_train, y_train):\n",
    "    \"\"\"\n",
    "    trains a Multinomial Naive Bayes model on the training data\n",
    "    \"\"\"\n",
    "    model = MultinomialNB()\n",
    "    model.fit(X_train, y_train)\n",
    "    return model\n",
    "\n",
    "def evaluate_model(model, X_test, y_test):\n",
    "    \"\"\"\n",
    "    evaluates the accuracy of the model on the testing data\n",
    "    \"\"\"\n",
    "    y_pred = model.predict(X_test)\n",
    "    accuracy = accuracy_score(y_test, y_pred)\n",
    "    return accuracy\n",
    "\n",
    "\n",
    "# extract features from the training data\n",
    "X_train = extract_features(preprocessed_train)\n",
    "y_train = train_labels\n",
    "\n",
    "# train the model\n",
    "model = train_model(X_train, y_train)\n",
    "\n",
    "# extract features from the testing data\n",
    "X_test = extract_features(preprocess_test)\n",
    "y_test = test_labels\n",
    "\n",
    "# evaluate the model on the testing data\n",
    "accuracy = evaluate_model(model, X_test, y_test)\n",
    "\n",
    "# print the accuracy\n",
    "print(f\"Accuracy: {accuracy}\")\n"
   ]
  },
  {
   "cell_type": "code",
   "execution_count": 18,
   "metadata": {},
   "outputs": [
    {
     "name": "stdout",
     "output_type": "stream",
     "text": [
      "Accuracy: 0.6533066132264529\n"
     ]
    }
   ],
   "source": [
    "from sklearn.pipeline import Pipeline\n",
    "from sklearn.feature_extraction.text import CountVectorizer\n",
    "from sklearn.feature_selection import SelectKBest, chi2\n",
    "from sklearn.preprocessing import StandardScaler\n",
    "from sklearn.naive_bayes import MultinomialNB\n",
    "from sklearn.metrics import accuracy_score\n",
    "from sklearn.pipeline import FeatureUnion\n",
    "from sklearn.preprocessing import FunctionTransformer\n",
    "\n",
    "# create a pipeline that first extracts hand-crafted features,\n",
    "# then vectorizes the texts using CountVectorizer, and finally applies\n",
    "# feature selection using SelectKBest with chi2 and scaling using StandardScaler,\n",
    "# before training a Multinomial Naive Bayes classifier\n",
    "pipeline = Pipeline([\n",
    "    ('extract_features', FeatureUnion([\n",
    "        ('handcrafted', FunctionTransformer(extract_features)),\n",
    "        ('vectorize', CountVectorizer()),\n",
    "    ])),\n",
    "    ('feature_selection', SelectKBest(chi2, k=1000)),\n",
    "    ('scaling', StandardScaler(with_mean=False)),\n",
    "    ('classification', MultinomialNB()),\n",
    "])\n",
    "\n",
    "# train the model\n",
    "pipeline.fit(train_texts, train_labels)\n",
    "\n",
    "# evaluate the model on the testing data\n",
    "y_pred = pipeline.predict(test_texts)\n",
    "accuracy = accuracy_score(test_labels, y_pred)\n",
    "\n",
    "# print the accuracy\n",
    "print(f\"Accuracy: {accuracy}\")"
   ]
  },
  {
   "attachments": {},
   "cell_type": "markdown",
   "metadata": {},
   "source": [
    "Looks like it actually brings down the accuracy, looks like my feature engineering really doesn't help"
   ]
  },
  {
   "attachments": {},
   "cell_type": "markdown",
   "metadata": {},
   "source": [
    "Now, the next step is to form a way to test the feature engineering and the preprocessing, we can see if the BoW or the Character-level N-grams.\n",
    "\n",
    "Let's work with the preprocessed text for now."
   ]
  },
  {
   "cell_type": "code",
   "execution_count": 19,
   "metadata": {},
   "outputs": [
    {
     "name": "stdout",
     "output_type": "stream",
     "text": [
      "Accuracy: 0.6988592569754895\n",
      "Top 10 most significant textual features:\n",
      "['bridle', 'bruised', 'two', 'glovers', 'greyhound', 'sende', 'celtics', 'joker', 'asian', 'footfingers', 'bridle', 'bruised', 'two', 'glovers', 'celtics', 'greyhound', 'footfingers', 'sende', 'joker', 'grossness', 'bruised', 'bridle', 'two', 'glovers', 'grossness', 'celtics', 'greyhound', 'sende', 'footfingers', 'eventual']\n"
     ]
    }
   ],
   "source": [
    "# Train a classifier on the training data\n",
    "clf, vectorizer = train_word_classifier(preprocessed_train, train_labels)\n",
    "\n",
    "# Evaluate the classifier on the test data\n",
    "accuracy = evaluate_classifier(clf, vectorizer, preprocess_test, test_labels)\n",
    "\n",
    "# Print the accuracy score\n",
    "print(\"Accuracy:\", accuracy)\n",
    "analyze_features(10, clf, vectorizer)"
   ]
  },
  {
   "cell_type": "code",
   "execution_count": 20,
   "metadata": {},
   "outputs": [
    {
     "name": "stdout",
     "output_type": "stream",
     "text": [
      "Accuracy: 0.63033759827347\n",
      "Top 10 most significant textual features:\n",
      "['i', 'ue ', ' kw', 'wp ', 'ust', 'thb', 'meg', ' vc', 'sth', 'gwr', 'i', 'ue ', ' kw', 'wp ', 'ust', 'thb', 'meg', ' vc', 'gwr', 'sth', 'i', 'ue ', ' kw', 'wp ', 'ust', 'thb', ' vc', 'meg', 'gwr', 'sth']\n"
     ]
    }
   ],
   "source": [
    "# Train a classifier on the training data\n",
    "clf, vectorizer = train_classifier(preprocessed_train, train_labels, (1,3))\n",
    "\n",
    "# Evaluate the classifier on the test data\n",
    "accuracy = evaluate_classifier(clf, vectorizer, preprocess_test, test_labels)\n",
    "\n",
    "# Print the accuracy score\n",
    "print(\"Accuracy:\", accuracy)\n",
    "analyze_features(10, clf, vectorizer)"
   ]
  },
  {
   "cell_type": "code",
   "execution_count": 21,
   "metadata": {},
   "outputs": [
    {
     "name": "stdout",
     "output_type": "stream",
     "text": [
      "Accuracy: 0.5693695082472637\n",
      "Top 10 most significant textual features:\n",
      "[' f', 'pd', 's ', 'im', 'gp', 'bj', 'ur', 'yo', 'eo', 'rn', ' f', 's ', 'pd', 'im', 'gp', 'bj', 'ur', 'rn', 'yo', 'eo', ' f', 's ', 'pd', 'gp', 'im', 'bj', 'ur', 'rn', 'yo', 'eo']\n"
     ]
    }
   ],
   "source": [
    "# Train a classifier on the training data\n",
    "clf, vectorizer = train_classifier(preprocessed_train, train_labels, (2,2))\n",
    "\n",
    "# Evaluate the classifier on the test data\n",
    "accuracy = evaluate_classifier(clf, vectorizer, preprocess_test, test_labels)\n",
    "\n",
    "# Print the accuracy score\n",
    "print(\"Accuracy:\", accuracy)\n",
    "analyze_features(10, clf, vectorizer)"
   ]
  },
  {
   "cell_type": "code",
   "execution_count": 22,
   "metadata": {},
   "outputs": [
    {
     "name": "stdout",
     "output_type": "stream",
     "text": [
      "Accuracy: 0.6442885771543087\n",
      "Top 10 most significant textual features:\n",
      "['rie', 'iuk', 'frr', 'lfu', 'at ', 'ips', ' rp', 'ekt', 'n i', 'guf', 'rie', 'iuk', 'frr', 'lfu', 'ips', 'ekt', 'at ', ' rp', 'guf', 'lfm', 'rie', 'iuk', 'frr', 'lfu', 'ips', 'lfm', ' rp', 'at ', 'ss ', 'ekt']\n"
     ]
    }
   ],
   "source": [
    "# Train a classifier on the training data\n",
    "clf, vectorizer = train_classifier(preprocessed_train, train_labels, (3,3))\n",
    "\n",
    "# Evaluate the classifier on the test data\n",
    "accuracy = evaluate_classifier(clf, vectorizer, preprocess_test, test_labels)\n",
    "\n",
    "# Print the accuracy score\n",
    "print(\"Accuracy:\", accuracy)\n",
    "analyze_features(10, clf, vectorizer)"
   ]
  },
  {
   "cell_type": "code",
   "execution_count": 23,
   "metadata": {},
   "outputs": [
    {
     "name": "stdout",
     "output_type": "stream",
     "text": [
      "Accuracy: 0.6726529983043009\n",
      "Top 10 most significant textual features:\n",
      "['arin', 'oabl', 'uple', 'ndum', 'rm o', 'esti', 't pa', 'hari', 'edan', 'khl ', 'arin', 'oabl', 'uple', 'esti', 'ndum', 'rm o', 't pa', 'eool', 'hari', 'edan', 'arin', 'oabl', 'esti', 'ndum', 'uple', 'rm o', 't pa', 'eool', 'hari', 'edan']\n"
     ]
    }
   ],
   "source": [
    "# Train a classifier on the training data\n",
    "clf, vectorizer = train_classifier(preprocessed_train, train_labels, (4,4))\n",
    "\n",
    "# Evaluate the classifier on the test data\n",
    "accuracy = evaluate_classifier(clf, vectorizer, preprocess_test, test_labels)\n",
    "\n",
    "# Print the accuracy score\n",
    "print(\"Accuracy:\", accuracy)\n",
    "analyze_features(10, clf, vectorizer)"
   ]
  },
  {
   "cell_type": "code",
   "execution_count": 24,
   "metadata": {},
   "outputs": [
    {
     "name": "stdout",
     "output_type": "stream",
     "text": [
      "Accuracy: 0.6846770464004933\n",
      "Top 10 most significant textual features:\n",
      "['im fl', ' i di', 'h cau', 'e lau', 'karda', ' up p', 'ch ev', 'l con', 'k wfh', 'denci', 'im fl', ' i di', 'e lau', 'h cau', 'karda', 'h suc', 'ngs f', 'fri s', 't oth', 'and j', 'im fl', ' i di', 'e lau', 'h cau', 'karda', 'h suc', 'ngs f', 'fri s', 'and j', 'are j']\n"
     ]
    }
   ],
   "source": [
    "# Train a classifier on the training data\n",
    "clf, vectorizer = train_classifier(preprocessed_train, train_labels, (5,5))\n",
    "\n",
    "# Evaluate the classifier on the test data\n",
    "accuracy = evaluate_classifier(clf, vectorizer, preprocess_test, test_labels)\n",
    "\n",
    "# Print the accuracy score\n",
    "print(\"Accuracy:\", accuracy)\n",
    "analyze_features(10, clf, vectorizer)"
   ]
  },
  {
   "cell_type": "code",
   "execution_count": 27,
   "metadata": {},
   "outputs": [
    {
     "name": "stdout",
     "output_type": "stream",
     "text": [
      "Accuracy: 0.6890704485894866\n",
      "Top 10 most significant textual features:\n",
      "['el abo', 'ndrome', 'leaves', 's way ', 'uscle ', ' cc hi', 'ut as ', 'ling w', 'ge mon', 'y to d', 'el abo', 's way ', 'uscle ', 'ut as ', 'd in o', 'ndrome', 'leaves', 'am nw ', 'ge mon', ' cc hi', 'el abo', 's way ', 'ut as ', 'd in o', 'uscle ', 'leaves', 'ndrome', 'tchabl', 'ge mon', 'am nw ']\n"
     ]
    }
   ],
   "source": [
    "# Train a classifier on the training data\n",
    "clf, vectorizer = train_classifier(preprocessed_train, train_labels, (6,6))\n",
    "\n",
    "# Evaluate the classifier on the test data\n",
    "accuracy = evaluate_classifier(clf, vectorizer, preprocess_test, test_labels)\n",
    "\n",
    "# Print the accuracy score\n",
    "print(\"Accuracy:\", accuracy)\n",
    "analyze_features(10, clf, vectorizer)"
   ]
  },
  {
   "cell_type": "code",
   "execution_count": 29,
   "metadata": {},
   "outputs": [
    {
     "name": "stdout",
     "output_type": "stream",
     "text": [
      "Accuracy: 0.6887621396639433\n",
      "Top 10 most significant textual features:\n",
      "[' me muc', 'commend', 'roth ir', 'ts gott', 'bic at ', 'oney at', 'al cups', 'ng a mo', 'to be a', 'cycling', ' me muc', 'roth ir', 'commend', 'am cont', ' in jai', 'ts gott', 'gets re', 'cycling', 'usband ', 'gold ev', ' me muc', 'y motor', 'roth ir', 'rof sho', 'e assho', 'commend', 'am cont', ' hit di', ' in jai', 'st urge']\n"
     ]
    }
   ],
   "source": [
    "# Train a classifier on the training data\n",
    "clf, vectorizer = train_classifier(preprocessed_train, train_labels, (7,7))\n",
    "\n",
    "# Evaluate the classifier on the test data\n",
    "accuracy = evaluate_classifier(clf, vectorizer, preprocess_test, test_labels)\n",
    "\n",
    "# Print the accuracy score\n",
    "print(\"Accuracy:\", accuracy)\n",
    "analyze_features(10, clf, vectorizer)"
   ]
  },
  {
   "cell_type": "code",
   "execution_count": 28,
   "metadata": {},
   "outputs": [
    {
     "name": "stdout",
     "output_type": "stream",
     "text": [
      "Accuracy: 0.6887621396639433\n",
      "Top 10 most significant textual features:\n",
      "[' me muc', 'commend', 'roth ir', 'ts gott', 'bic at ', 'oney at', 'al cups', 'ng a mo', 'to be a', 'cycling', ' me muc', 'roth ir', 'commend', 'am cont', ' in jai', 'ts gott', 'gets re', 'cycling', 'usband ', 'gold ev', ' me muc', 'y motor', 'roth ir', 'rof sho', 'e assho', 'commend', 'am cont', ' hit di', ' in jai', 'st urge']\n"
     ]
    }
   ],
   "source": [
    "# Train a classifier on the training data\n",
    "clf, vectorizer = train_classifier(preprocessed_train, train_labels, (7,7))\n",
    "\n",
    "# Evaluate the classifier on the test data\n",
    "accuracy = evaluate_classifier(clf, vectorizer, preprocess_test, test_labels)\n",
    "\n",
    "# Print the accuracy score\n",
    "print(\"Accuracy:\", accuracy)\n",
    "analyze_features(10, clf, vectorizer)"
   ]
  },
  {
   "cell_type": "code",
   "execution_count": 25,
   "metadata": {},
   "outputs": [],
   "source": [
    "from sklearn.feature_extraction.text import TfidfVectorizer\n",
    "from sklearn.naive_bayes import MultinomialNB\n",
    "\n",
    "def train_word_classifier_tfidf(texts, labels):\n",
    "    # create a TfidfVectorizer with words\n",
    "    vectorizer = TfidfVectorizer(lowercase=False, stop_words=None)\n",
    "    X = vectorizer.fit_transform(texts)\n",
    "    # train the classifier and return it\n",
    "    clf = MultinomialNB()\n",
    "    clf.fit(X, labels)\n",
    "    return clf, vectorizer\n"
   ]
  },
  {
   "cell_type": "code",
   "execution_count": 26,
   "metadata": {},
   "outputs": [
    {
     "name": "stdout",
     "output_type": "stream",
     "text": [
      "Accuracy: 0.661939263141668\n",
      "Top 10 most significant textual features:\n",
      "['bridle', 'bruised', 'glovers', 'greyhound', 'two', 'sende', 'joker', 'asian', 'celtics', 'footfingers', 'bridle', 'bruised', 'two', 'glovers', 'celtics', 'footfingers', 'greyhound', 'zreminderideeafaaecaccddsubredditaskteengirls', 'sende', 'joker', 'glovers', 'bruised', 'bridle', 'two', 'grossness', 'greyhound', 'zreminderideeafaaecaccddsubredditaskteengirls', 'celtics', 'footfingers', 'eventual']\n"
     ]
    }
   ],
   "source": [
    "# Train a classifier on the training data\n",
    "clf, vectorizer = train_word_classifier_tfidf(preprocessed_train, train_labels)\n",
    "\n",
    "# Evaluate the classifier on the test data\n",
    "accuracy = evaluate_classifier(clf, vectorizer, preprocess_test, test_labels)\n",
    "\n",
    "# Print the accuracy score\n",
    "print(\"Accuracy:\", accuracy)\n",
    "analyze_features(10, clf, vectorizer)"
   ]
  },
  {
   "cell_type": "code",
   "execution_count": 2,
   "metadata": {},
   "outputs": [
    {
     "data": {
      "text/html": [
       "<div>\n",
       "<style scoped>\n",
       "    .dataframe tbody tr th:only-of-type {\n",
       "        vertical-align: middle;\n",
       "    }\n",
       "\n",
       "    .dataframe tbody tr th {\n",
       "        vertical-align: top;\n",
       "    }\n",
       "\n",
       "    .dataframe thead th {\n",
       "        text-align: right;\n",
       "    }\n",
       "</style>\n",
       "<table border=\"1\" class=\"dataframe\">\n",
       "  <thead>\n",
       "    <tr style=\"text-align: right;\">\n",
       "      <th></th>\n",
       "      <th>text</th>\n",
       "      <th>age</th>\n",
       "    </tr>\n",
       "  </thead>\n",
       "  <tbody>\n",
       "    <tr>\n",
       "      <th>0</th>\n",
       "      <td>What happened to my comment....it was soo good...</td>\n",
       "      <td>te</td>\n",
       "    </tr>\n",
       "    <tr>\n",
       "      <th>1</th>\n",
       "      <td>A shit ton of censorship. And I don't mean \"de...</td>\n",
       "      <td>te</td>\n",
       "    </tr>\n",
       "    <tr>\n",
       "      <th>2</th>\n",
       "      <td>Wasn't aware of the drama between /r/askmen an...</td>\n",
       "      <td>te</td>\n",
       "    </tr>\n",
       "    <tr>\n",
       "      <th>3</th>\n",
       "      <td>Nice username  I too am from Finland</td>\n",
       "      <td>te</td>\n",
       "    </tr>\n",
       "    <tr>\n",
       "      <th>4</th>\n",
       "      <td>Your comment was on the [other post]( lol</td>\n",
       "      <td>te</td>\n",
       "    </tr>\n",
       "    <tr>\n",
       "      <th>...</th>\n",
       "      <td>...</td>\n",
       "      <td>...</td>\n",
       "    </tr>\n",
       "    <tr>\n",
       "      <th>64861</th>\n",
       "      <td>And, after 10 years of marriage, you can get 5...</td>\n",
       "      <td>th</td>\n",
       "    </tr>\n",
       "    <tr>\n",
       "      <th>64862</th>\n",
       "      <td>Yes. Thank you for this response. I don’t view...</td>\n",
       "      <td>th</td>\n",
       "    </tr>\n",
       "    <tr>\n",
       "      <th>64863</th>\n",
       "      <td>Better hope that you're contacted before someo...</td>\n",
       "      <td>th</td>\n",
       "    </tr>\n",
       "    <tr>\n",
       "      <th>64864</th>\n",
       "      <td>Thank you for this question. I also find mysel...</td>\n",
       "      <td>th</td>\n",
       "    </tr>\n",
       "    <tr>\n",
       "      <th>64865</th>\n",
       "      <td>Yes. Being able to consider working part-time ...</td>\n",
       "      <td>th</td>\n",
       "    </tr>\n",
       "  </tbody>\n",
       "</table>\n",
       "<p>64866 rows × 2 columns</p>\n",
       "</div>"
      ],
      "text/plain": [
       "                                                    text age\n",
       "0      What happened to my comment....it was soo good...  te\n",
       "1      A shit ton of censorship. And I don't mean \"de...  te\n",
       "2      Wasn't aware of the drama between /r/askmen an...  te\n",
       "3                   Nice username  I too am from Finland  te\n",
       "4              Your comment was on the [other post]( lol  te\n",
       "...                                                  ...  ..\n",
       "64861  And, after 10 years of marriage, you can get 5...  th\n",
       "64862  Yes. Thank you for this response. I don’t view...  th\n",
       "64863  Better hope that you're contacted before someo...  th\n",
       "64864  Thank you for this question. I also find mysel...  th\n",
       "64865  Yes. Being able to consider working part-time ...  th\n",
       "\n",
       "[64866 rows x 2 columns]"
      ]
     },
     "execution_count": 2,
     "metadata": {},
     "output_type": "execute_result"
    }
   ],
   "source": [
    "import pandas as pd\n",
    "# Load the dataset\n",
    "data = pd.read_pickle('../../../data_samples/reddit_samples/all.pkl')\n",
    "data"
   ]
  },
  {
   "cell_type": "code",
   "execution_count": 4,
   "metadata": {},
   "outputs": [
    {
     "data": {
      "image/png": "[encoded data removed]",
      "text/plain": [
       "<Figure size 640x480 with 1 Axes>"
      ]
     },
     "metadata": {},
     "output_type": "display_data"
    }
   ],
   "source": [
    "import matplotlib.pyplot as plt\n",
    "\n",
    "# Group the data by age category and count the number of occurrences\n",
    "counts = data.groupby('age').size()\n",
    "\n",
    "# Create a bar chart of the counts by age category\n",
    "plt.bar(counts.index, counts.values)\n",
    "\n",
    "# Set the axis labels and chart title\n",
    "plt.xlabel('Age Category')\n",
    "plt.ylabel('Count')\n",
    "plt.title('Distribution of Age Categories')\n",
    "\n",
    "# Show the chart\n",
    "plt.savefig('../../../images/reddit_distribution.png')"
   ]
  },
  {
   "cell_type": "code",
   "execution_count": 6,
   "metadata": {},
   "outputs": [
    {
     "data": {
      "image/png": "[encoded data removed]",
      "text/plain": [
       "<Figure size 640x480 with 1 Axes>"
      ]
     },
     "metadata": {},
     "output_type": "display_data"
    }
   ],
   "source": [
    "import pandas as pd\n",
    "import matplotlib.pyplot as plt\n",
    "\n",
    "# Define the data points as tuples\n",
    "data = [\n",
    "    ((2,2), 0.6013),\n",
    "    ((3,3), 0.6686),\n",
    "    ((4,4), 0.6962),\n",
    "    ((5,5), 0.7007),\n",
    "    ((6,6), 0.6982),\n",
    "]\n",
    "\n",
    "# Create a DataFrame from the data\n",
    "df = pd.DataFrame(data, columns=['coordinates', 'values'])\n",
    "\n",
    "# Set the coordinates column as the index and split into separate columns\n",
    "df[['x', 'y']] = pd.DataFrame(df['coordinates'].tolist(), index=df.index)\n",
    "\n",
    "# Create a line plot of the values by x coordinate\n",
    "plt.plot(df['x'], df['values'], marker='o')\n",
    "\n",
    "# Add a horizontal line at y=0.6405\n",
    "plt.axhline(y=0.7052, color='red', linestyle='--')\n",
    "\n",
    "# Set the axis labels and chart title\n",
    "plt.xlabel('N-Gram')\n",
    "plt.ylabel('Accuracy')\n",
    "plt.title('Reddit N-grams')\n",
    "\n",
    "# Show the chart\n",
    "plt.savefig('../../../images/reddit_n_grams.png')"
   ]
  },
  {
   "cell_type": "markdown",
   "metadata": {},
   "source": []
  }
 ],
 "metadata": {
  "kernelspec": {
   "display_name": "Python 3",
   "language": "python",
   "name": "python3"
  },
  "language_info": {
   "codemirror_mode": {
    "name": "ipython",
    "version": 3
   },
   "file_extension": ".py",
   "mimetype": "text/x-python",
   "name": "python",
   "nbconvert_exporter": "python",
   "pygments_lexer": "ipython3",
   "version": "3.9.6"
  },
  "orig_nbformat": 4,
  "vscode": {
   "interpreter": {
    "hash": "31f2aee4e71d21fbe5cf8b01ff0e069b9275f58929596ceb00d14d90e3e16cd6"
   }
  }
 },
 "nbformat": 4,
 "nbformat_minor": 2
}
