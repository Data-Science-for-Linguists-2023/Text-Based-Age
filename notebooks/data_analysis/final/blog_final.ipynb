{
 "cells": [
  {
   "attachments": {},
   "cell_type": "markdown",
   "metadata": {},
   "source": [
    "## Age Classificaion/Analysis of Text and Age\n",
    "\n",
    "Let's actually start with a classification model, gather the results, and then investigate.\n",
    "\n",
    "Here's the plan for the upcoming work in the notebook --\n",
    "\n",
    "- CountVectorizer (vector representation of text) on N-grams\n",
    "- Train a Naive Bayes Classifier\n",
    "- Look at most significant features\n",
    "- Form hypotheses and iterate"
   ]
  },
  {
   "cell_type": "code",
   "execution_count": 1,
   "metadata": {},
   "outputs": [],
   "source": [
    "# Import necessary libraries\n",
    "import pandas as pd\n",
    "import numpy as np\n",
    "import matplotlib.pyplot as plt"
   ]
  },
  {
   "cell_type": "code",
   "execution_count": 2,
   "metadata": {},
   "outputs": [
    {
     "data": {
      "text/html": [
       "<div>\n",
       "<style scoped>\n",
       "    .dataframe tbody tr th:only-of-type {\n",
       "        vertical-align: middle;\n",
       "    }\n",
       "\n",
       "    .dataframe tbody tr th {\n",
       "        vertical-align: top;\n",
       "    }\n",
       "\n",
       "    .dataframe thead th {\n",
       "        text-align: right;\n",
       "    }\n",
       "</style>\n",
       "<table border=\"1\" class=\"dataframe\">\n",
       "  <thead>\n",
       "    <tr style=\"text-align: right;\">\n",
       "      <th></th>\n",
       "      <th>id</th>\n",
       "      <th>gender</th>\n",
       "      <th>age</th>\n",
       "      <th>topic</th>\n",
       "      <th>sign</th>\n",
       "      <th>date</th>\n",
       "      <th>text</th>\n",
       "    </tr>\n",
       "  </thead>\n",
       "  <tbody>\n",
       "    <tr>\n",
       "      <th>0</th>\n",
       "      <td>2059027</td>\n",
       "      <td>male</td>\n",
       "      <td>15</td>\n",
       "      <td>Student</td>\n",
       "      <td>Leo</td>\n",
       "      <td>14,May,2004</td>\n",
       "      <td>Info has been found (+/- 100 pages,...</td>\n",
       "    </tr>\n",
       "    <tr>\n",
       "      <th>1</th>\n",
       "      <td>2059027</td>\n",
       "      <td>male</td>\n",
       "      <td>15</td>\n",
       "      <td>Student</td>\n",
       "      <td>Leo</td>\n",
       "      <td>13,May,2004</td>\n",
       "      <td>These are the team members:   Drewe...</td>\n",
       "    </tr>\n",
       "    <tr>\n",
       "      <th>2</th>\n",
       "      <td>2059027</td>\n",
       "      <td>male</td>\n",
       "      <td>15</td>\n",
       "      <td>Student</td>\n",
       "      <td>Leo</td>\n",
       "      <td>12,May,2004</td>\n",
       "      <td>In het kader van kernfusie op aarde...</td>\n",
       "    </tr>\n",
       "    <tr>\n",
       "      <th>3</th>\n",
       "      <td>2059027</td>\n",
       "      <td>male</td>\n",
       "      <td>15</td>\n",
       "      <td>Student</td>\n",
       "      <td>Leo</td>\n",
       "      <td>12,May,2004</td>\n",
       "      <td>testing!!!  testing!!!</td>\n",
       "    </tr>\n",
       "    <tr>\n",
       "      <th>4</th>\n",
       "      <td>3581210</td>\n",
       "      <td>male</td>\n",
       "      <td>33</td>\n",
       "      <td>InvestmentBanking</td>\n",
       "      <td>Aquarius</td>\n",
       "      <td>11,June,2004</td>\n",
       "      <td>Thanks to Yahoo!'s Toolbar I can ...</td>\n",
       "    </tr>\n",
       "  </tbody>\n",
       "</table>\n",
       "</div>"
      ],
      "text/plain": [
       "        id gender  age              topic      sign          date  \\\n",
       "0  2059027   male   15            Student       Leo   14,May,2004   \n",
       "1  2059027   male   15            Student       Leo   13,May,2004   \n",
       "2  2059027   male   15            Student       Leo   12,May,2004   \n",
       "3  2059027   male   15            Student       Leo   12,May,2004   \n",
       "4  3581210   male   33  InvestmentBanking  Aquarius  11,June,2004   \n",
       "\n",
       "                                                text  \n",
       "0             Info has been found (+/- 100 pages,...  \n",
       "1             These are the team members:   Drewe...  \n",
       "2             In het kader van kernfusie op aarde...  \n",
       "3                   testing!!!  testing!!!            \n",
       "4               Thanks to Yahoo!'s Toolbar I can ...  "
      ]
     },
     "execution_count": 2,
     "metadata": {},
     "output_type": "execute_result"
    }
   ],
   "source": [
    "# Load the dataset\n",
    "data = pd.read_csv('../../../data/blogtext 2.csv')\n",
    "data.head()"
   ]
  },
  {
   "cell_type": "code",
   "execution_count": 3,
   "metadata": {},
   "outputs": [
    {
     "data": {
      "text/html": [
       "<div>\n",
       "<style scoped>\n",
       "    .dataframe tbody tr th:only-of-type {\n",
       "        vertical-align: middle;\n",
       "    }\n",
       "\n",
       "    .dataframe tbody tr th {\n",
       "        vertical-align: top;\n",
       "    }\n",
       "\n",
       "    .dataframe thead th {\n",
       "        text-align: right;\n",
       "    }\n",
       "</style>\n",
       "<table border=\"1\" class=\"dataframe\">\n",
       "  <thead>\n",
       "    <tr style=\"text-align: right;\">\n",
       "      <th></th>\n",
       "      <th>age</th>\n",
       "      <th>text</th>\n",
       "      <th>age_category</th>\n",
       "    </tr>\n",
       "  </thead>\n",
       "  <tbody>\n",
       "    <tr>\n",
       "      <th>0</th>\n",
       "      <td>15</td>\n",
       "      <td>Info has been found (+/- 100 pages, and 4.5 MB...</td>\n",
       "      <td>10s</td>\n",
       "    </tr>\n",
       "    <tr>\n",
       "      <th>1</th>\n",
       "      <td>15</td>\n",
       "      <td>These are the team members:   Drewes van der L...</td>\n",
       "      <td>10s</td>\n",
       "    </tr>\n",
       "    <tr>\n",
       "      <th>2</th>\n",
       "      <td>15</td>\n",
       "      <td>In het kader van kernfusie op aarde:  MAAK JE ...</td>\n",
       "      <td>10s</td>\n",
       "    </tr>\n",
       "    <tr>\n",
       "      <th>3</th>\n",
       "      <td>15</td>\n",
       "      <td>testing!!!  testing!!!</td>\n",
       "      <td>10s</td>\n",
       "    </tr>\n",
       "    <tr>\n",
       "      <th>4</th>\n",
       "      <td>33</td>\n",
       "      <td>Thanks to Yahoo!'s Toolbar I can now 'capture'...</td>\n",
       "      <td>30s</td>\n",
       "    </tr>\n",
       "  </tbody>\n",
       "</table>\n",
       "</div>"
      ],
      "text/plain": [
       "   age                                               text age_category\n",
       "0   15  Info has been found (+/- 100 pages, and 4.5 MB...          10s\n",
       "1   15  These are the team members:   Drewes van der L...          10s\n",
       "2   15  In het kader van kernfusie op aarde:  MAAK JE ...          10s\n",
       "3   15                             testing!!!  testing!!!          10s\n",
       "4   33  Thanks to Yahoo!'s Toolbar I can now 'capture'...          30s"
      ]
     },
     "execution_count": 3,
     "metadata": {},
     "output_type": "execute_result"
    }
   ],
   "source": [
    "data['text'] = data['text'].str.strip()\n",
    "data = data.drop(['id', 'gender', 'topic', 'sign', 'date'], axis = 1)\n",
    "data['age_category'] = pd.cut(data['age'], bins=[10, 19, 29, 39], labels=['10s', '20s', '30s'])\n",
    "data.head()\n"
   ]
  },
  {
   "attachments": {},
   "cell_type": "markdown",
   "metadata": {},
   "source": [
    "The data is now more or less in it's final form."
   ]
  },
  {
   "attachments": {},
   "cell_type": "markdown",
   "metadata": {},
   "source": [
    "Now let's define the main vectorizer and classifier. We might make changes to these, but for now, we're keeping it all in one place for covenience."
   ]
  },
  {
   "cell_type": "code",
   "execution_count": 4,
   "metadata": {},
   "outputs": [],
   "source": [
    "from sklearn.feature_extraction.text import CountVectorizer\n",
    "from sklearn.naive_bayes import MultinomialNB\n",
    "from sklearn.metrics import accuracy_score\n",
    "\n",
    "\n",
    "def train_classifier(texts, labels, ngrams):\n",
    "    # create a CountVectorizer with character-based bigrams\n",
    "    vectorizer = CountVectorizer(analyzer='char', ngram_range=ngrams, lowercase=False, stop_words=None)\n",
    "    X = vectorizer.fit_transform(texts)\n",
    "    # train the classifier and return it\n",
    "    clf = MultinomialNB()\n",
    "    clf.fit(X, labels)\n",
    "    return clf, vectorizer\n",
    "\n",
    "def train_word_classifier(texts, labels):\n",
    "    # create a CountVectorizer with words\n",
    "    vectorizer = CountVectorizer(lowercase=False, stop_words=None)\n",
    "    X = vectorizer.fit_transform(texts)\n",
    "    # train the classifier and return it\n",
    "    clf = MultinomialNB()\n",
    "    clf.fit(X, labels)\n",
    "    return clf, vectorizer\n",
    "\n",
    "def predict_age_group(classifier, vectorizer, new_text):\n",
    "    # take in a classifier as input and return the prediction\n",
    "    new_X = vectorizer.transform([new_text])\n",
    "    predicted_age_group = classifier.predict(new_X)\n",
    "    return predicted_age_group\n",
    "\n",
    "def evaluate_classifier(classifier, vectorizer, test_texts, test_labels):\n",
    "    # transform the test data\n",
    "    X_test = vectorizer.transform(test_texts)\n",
    "    # predict the age group and return score\n",
    "    predicted_age_groups = classifier.predict(X_test)\n",
    "    return accuracy_score(test_labels, predicted_age_groups)\n",
    "\n",
    "\n",
    "def analyze_features(N, clf, vec):\n",
    "    feature_names = list(vec.vocabulary_.keys())\n",
    "    log_prob = clf.feature_log_prob_\n",
    "    top_N_features = []\n",
    "    for i in range(clf.classes_.shape[0]):\n",
    "        top_N_indices = log_prob[i].argsort()[::-1][:N]\n",
    "        top_N_features.extend([feature_names[idx] for idx in top_N_indices])\n",
    "    print(\"Top {} most significant textual features:\".format(N))\n",
    "    print(top_N_features)\n"
   ]
  },
  {
   "attachments": {},
   "cell_type": "markdown",
   "metadata": {},
   "source": [
    "From the analysis in the `../draft/` folder, we have determined that some preprocessing helps, but not all the way (with lowercase, stemming, lemmatizing, etc.). This also helps to an extent to get the non-english text out, or at least, non-english characters."
   ]
  },
  {
   "cell_type": "code",
   "execution_count": 6,
   "metadata": {},
   "outputs": [],
   "source": [
    "import re\n",
    "\n",
    "def preprocess_texts(texts):\n",
    "    \"\"\"\n",
    "    Cleans the given text by removing non-English characters and punctuation.\n",
    "    \"\"\"\n",
    "    # Keep only English characters and punctuation\n",
    "    text = [re.sub(r'[^a-zA-Z\\s\\.,?!]', '', text) for text in texts]\n",
    "    \n",
    "    return text"
   ]
  },
  {
   "cell_type": "code",
   "execution_count": 7,
   "metadata": {},
   "outputs": [],
   "source": [
    "preprocessed = preprocess_texts(list(data['text']))"
   ]
  },
  {
   "cell_type": "code",
   "execution_count": 11,
   "metadata": {},
   "outputs": [
    {
     "data": {
      "text/plain": [
       "['Info has been found   pages, and . MB of .pdf files Now i have to wait untill our team leader has processed it and learns html.',\n",
       " 'These are the team members   Drewes van der Laag           urlLink mail  Ruiyu Xie                     urlLink mail  Bryan Aaldering me          urlLink mail',\n",
       " 'In het kader van kernfusie op aarde  MAAK JE EIGEN WATERSTOFBOM   How to build an HBomb From ascotttartarus.uwa.edu.au Andrew Scott Newsgroups rec.humor Subject How To Build An HBomb humorous! Date  Feb   GMT Organization The University of Western Australia  Original file dated th November . Seemed to be a transcript of a Seven Days article. Poorly formatted and corrupted. I have added the text between examine under a microscope and malleable, like gold, as it was missing. If anyone has the full text, please distribute. I am not responsible for the accuracy of this information. Converted to HTML by DionisioInfiNet.com . Did a little spellchecking and some minor edits too. Stolen from  urlLink httpmy.ohio.voyager.netdionisiofunm...ownhbomb.html  and reformatted the HTML. It now validates to XHTML . Strict. How to Build an HBomb Making and owning an Hbomb is the kind of challenge real Americans seek. Who wants to be a passive victim of nuclear war when, with a little effort, you can be an active participant? Bomb shelters are for losers. Who wants to huddle together underground eating canned Spam? Winners want to push the button themselves. Making your own Hbomb is a big step in nuclear assertiveness training  its called Taking Charge. Were sure youll enjoy the risks and the heady thrill of playing nuclear chicken. Introduction When the Feds clamped down on The Progressive magazine for attempting to publish an article on the manufacture of the hydrogen bomb, it piqued our curiosity. Was it really true that atomic and hydrogen bomb technology was so simple you could build an Hbomb in your own kitchen? Seven Days decided to find out. Food editor Barbara Ehrenreich, investigative reporter Peter Biskind, Photographer Jane Melnick and nuclear scientist Michio Kaku were given three days to cook up a workable Hbomb. They did and we have decided to share their culinary secrets with you. Not that Seven Days supports nuclear terrorism. We dont. We would prefer to die slowly from familiar poisons like lowlevel radiation, microwaves, DDT, DBCP, aflatoxins, PBBs, PBCs, or food dyes, rather than unexpectedly, say as hostage to a Latvian nationalist brandishing a homemade bomb. In our view the real terrorists are the governments, American, Soviet, French, Chinese, and British, that are hoarding Hbombs for their own use, and worse still, those governments U.S., French and German that are eagerly peddling advanced nuclear technology to countries like South Africa, Brazil, and Argentina so that they can make their own bombs. When these bombs are used, and they will be, it will be the worlds bigtime nuclear peddlers, along with corporate suppliers like General Electric, Westinghouse, and Gulf Oil, that we can thank for it. Gagging The Progressive will do no more for national security than backyard bomb shelters because like it or not the news is out. The heart of the successful Hbomb is the successful Abomb. Once youve got your Abombs made the rest is frosting on the cake. All you have to do is set them up so that when they detonate theyll start off a hydrogenfusion reaction.  Part  Making Your Bomb Step  Getting the Ingredients Uranium is the basic ingredient of the Abomb. When a uranium atoms nucleus splits apart, it releases a tremendous amount of energy for its size, and it emits neutrons which go on to split other nearby uranium nuclei, releasing more energy, in what is called a chain reaction. When atoms split, matter is converted into energy according to Einsteins equation EMC. What better way to mark his birthday than with your own atomic fireworks? There are two kinds isotopes of uranium the rare U, used in bombs, and the more common, heavier, but useless U. Natural uranium contains less than  percent U and in order to be usable in bombs it has to be enriched to  percent U and only  percent U. Plutonium can also be used in bombs as a substitute for U. Ten pounds of U or slightly less plutonium is all that is necessary for a bomb. Less than ten pounds wont give you a critical mass. So purifying or enriching naturally occurring uranium is likely to be your first big hurdle. It is infinitely easy to steal readytouse enriched uranium or plutonium than to enrich some yourself. And stealing uranium is not as hard as it sounds. There are at least three sources of enriched uranium or plutonium... Enriched uranium is manufactured at a gaseous diffusion plant in Portsmouth, Ohio. From there it is shipped in  liter bottles by airplane and trucks to conversion plants that turn it into uranium oxide or uranium metal. Each  liter bottle contains  kilograms of U, and there are  bottles to a typical shipment. Conversion facilities exist at Hematite, Missouri Apollo, Pennsylvania and Erwin, Tennessee. The KerrMcGee plant at Crescent Oklahoma  where Karen Silkwood worked  was a conversion plant that lost  lbs of plutonium. Enriched uranium can be stolen from these plants or from fuelfabricating plants like those in New Haven, San Diego or Lynchburg, Virginia. A former KerrMcGee supervisor, James V. Smith, when asked at the Silkwood trial if there were any security precautions at the plant to prevent theft, testified that There were none of any kind, no guards, no fences, no nothing. Plutonium can be obtained from places like United Nuclear in Pawling, New York Nuclear Fuel Services in Erwin, Tennessee General Electric in Pleasanton, California Westinghouse in Cheswick, Pennsylvania Nuclear Materials and Equipment Corporation NUMEC in Leechburg, Pennsylvania and plants in Hanfford, Washington and Morris, Illinois. According to Rolling Stone magazine the Israelis were involved in the theft of plutonium from NUMEC. Finally you can steal enriched uranium or plutonium while its enroute from conversion plants to fuel fabricating plants. It is usually transported by air or truck in the form of uranium oxide, a brownish powder resembling instant coffee, or as a metal, coming in small chunks called broken buttons. Both forms are shipped in small cans stacked in inch cylinders braced with welded struts in the center of ordinary  gallon steel drums. The drums weigh about  pounds and are clearly marked Fissible Material or Danger, Plutonium. A typical shipment might go from the enrichment plant at Portsmouth, Ohio to the conversion plant in Hematite Missouri then to Kansas City by truck where it would be flown to Los Angeles and then trucked down to the General Atomic plant in San Diego. The plans for the General Atomic plant are on file at the Nuclear Regulatory Commissions reading room at  H Street NW Washington. A Xerox machine is provided for the convenience of the public. If you cant get hold of any enriched uranium youll have to settle for commercial grade  percent U. This can be stolen from university reactors of a type called TRIGA Mark II, where security is even more casual than at commercial plants. If stealing uranium seems too tacky you can buy it. Unenriched uranium is available at any chemical supply house for  a pound. Commercial grade  to  percent enriched is available for  a pound from Gulf Atomic. Youll have to enrich it further yourself. Quite frankly this can be something of a pain in the ass. Youll need to start with a little more than  pounds of commercialgrade uranium. Its only  percent U at best, and you need  pounds of U so...  But with a little kitchentable chemistry youll be able to convert the solid uranium oxide youve purchased into a liquid form. Once youve done that, youll be able to separate the U that youll need from the U. First pour a few gallons of concentrated hydrofluoric acid into your uranium oxide, converting it to uranium tetrafluoride. Safety note Concentrated hydrofluoric acid is so corrosive that it will eat its way through glass, so store it only in plastic. Used gallon plastic milk containers will do. Now you have to convert your uranium tetrafluoride to uranium hexafluoride, the gaseous form of uranium, which is convenient for separating out the isotope U from U. To get the hexafluoride form, bubble fluorine gas into your container of uranium tetrafluoride. Fluorine is available in pressurized tanks from chemicalsupply firms. Be careful how you use it though because fluorine is several times more deadly than chlorine, the classic World War I poison gas. Chemists recommend that you carry out this step under a stove hood the kind used to remove unpleasant cooking odors. If youve done your chemistry right you should now have a generous supply of uranium hexafluoride ready for enriching. In the old horseandbuggy days of Abomb manufacture the enrichment was carried out by passing the uranium hexafluoride through hundreds of miles of pipes, tubes, and membranes, until the U was eventually separated from the U. This gaseousdiffusion process, as it was called is difficult, timeconsuming, and expensive. Gaseousdiffusion plants cover hundreds of acres and cost in the neighborhood of billion each. So forget it. There are easier, and cheaper, ways to enrich your uranium. First transform the gas into a liquid by subjecting it to pressure. You can use a bicycle pump for this. Then make a simple home centrifuge. Fill a standardsize bucket onequarter full of liquid uranium hexafluoride. Attach a sixfoot rope to the bucket handle. Now swing the rope and attached bucket around your head as fast as possible. Keep this up for about  minutes. Slow down gradually, and very gently put the bucket on the floor. The U, which is lighter, will have risen to the top, where it can be skimmed off like cream. Repeat this step until you have the required  pounds of uranium. Safety note Dont put all your enriched uranium hexafluoride in one bucket. Use at least two or three buckets and keep them in separate corners of the room. This will prevent the premature buildup of a critical mass. Now its time to convert your enriched uranium back to metal form. This is easily enough accomplished by spooning several ladlefuls of calcium available in tablet form from your drugstore into each bucket of uranium. The calcium will react with the uranium hexafluoride to produce calcium fluoride, a colorless salt which can be easily be separated from your pure enriched uranium metal. A few precautions  While uranium is not dangerously radioactive in the amounts youll be handling, if you plan to make more than one bomb it might be wise to wear gloves and a lead apron, the kind you can buy in dental supply stores.  Plutonium is one of the most toxic substances known. If inhaled, a thousandth of a gram can cause massive fibrosis of the lungs, a painful way to go. Even a millionth of a gram in the lungs will cause cancer. If eaten plutonium is metabolized like calcium. It goes straight to the bones where it gives out alpha particles preventing bone marrow from manufacturing red blood cells. The best way to avoid inhaling plutonium is to hold your breath while handling it. If this is too difficult wear a mask. To avoid ingesting plutonium orally follow this simple rule never make an Abomb on an empty stomach.  If you find yourself dozing off while youre working, or if you begin to glow in the dark, it might be wise to take a blood count. Prick your finger with a sterile pin, place a drop of blood on a microscope slide, cover it with a cover slip, and examine under a microscope. Best results are obtained in the early morning. When you get leukemia, immature cells are released into the bloodstream, and usually the number of white cells increases though this increase might take almost  weeks. Red blood cells look kind of like donuts without the hole, and are slightly smaller than the white cells, each of which has a nucleus. Immature red cells look similar to white cells i.e.. slightly larger and have a nucleus. If you have more than about  white cell including immature ones to  red cells then start to worry. But, depending upon your plans for the eventual use of the bomb, a short life expectancy might not be a problem.  Step  Assembling the ABomb Now that youve acquired the enriched uranium, all thats left is to assemble your Abomb. Go find a couple of stainless steel salad bowls. You also want to separate your  pounds of U into two hunks. Keep them apart! The idea is to push each half your uranium into the inside of a bowl. Take one hunk of your uranium and beat it into the inside of the first bowl. Uranium is malleable, like gold, so you should have no trouble hammering it into the bowl to get a good fit. Take another fivepound hunk of uranium and fit it into a second stainless steel bowl. These two bowls of U are the subcritical masses which, when brought together forcefully, will provide the critical mass that makes your Abomb go. Keep them a respectful distance apart while working because you dont want them to go critical on you... At least not yet. Now hollow out the body of an old vacuum cleaner and place your two hemispherical bowls inside, open ends facing each other, no less than seven inches apart, using masking tape to set them up in position. The reason for the steel bowls and the vacuum cleaner, in case youre wondering, is that these help reflect the neutrons back into the uranium for a more efficient explosion. A loose neutron is a useless neutron as the Abomb pioneers used to say. As far as the Abomb goes, youre almost done. The final problem is to figure out how to get the two U hemispheres to smash into each other with sufficient force to set off a truly effective fission reaction. Almost any type of explosive can be used to drive them together. Gunpowder, for example, is easily made at home from potassium nitrate, sulfur, and carbon. Or, you can get some blasting caps or TNT. Buy them or steal them from a construction site. Best of all is C plastic explosive. You can mold it around your bowls, and its fairly safe to work with. But, it might be wise to shape it around an extra salad bowl in another room, and THEN fit it to your uraniumpacked bowls. This is particularly true in winter, when a stray static electrical charge might induce ignition in the C. A responsible bomb maker considers it impolite to accidentally destroy more of the neighborhood than absolutely necessary. Once the explosives are in place all you need to do is hook up a simple detonation device with a few batteries, a switch, and some wire. Remember though that it is essential that the two charges  one on each side of the casing  go off simultaneously. Now put the whole thing in the casing of an old Hoover vacuum cleaner and youre finished with this part of the process. The rest is easy.  Step  Make More ABombs Following the Directions Above  A Word to the Wise About Wastes After your Abomb is completed youll have a pile of moderately fatal radioactive wastes like U. These are not dangerous, but you do have to get rid of them. You can flush leftovers down the toilet. Dont worry about polluting the ocean, there is already so much radioactive waste there, a few more bucketfuls wont make any waves whatsoever. If youre the fastidious type  the kind who never leaves gum under their seat at the movies  you can seal the nasty stuff in coffee cans and bury it in the backyard, just like Uncle Sam does. If the neighbor kids have a habit of trampling the lawn, tell them to play over by the waste. Youll soon find that theyre spending most of their time in bed.  Going First Class If youre like us, youre feeling the economic pinch, and youll want to make your bomb as inexpensively as possible, consonant of course with reasonable yield. The recipe weve given is for a budgetpleasing Hbomb, no frills, no flourishes its just a simple megaton bomb, capable of wiping out the New York metropolitan area, the San Francisco Bay area, or Boston. But dont forget, your Hbomb will only be as good as the Abombs in it. If you want to spend a little more money you can punchup your Abomb considerably. Instead of centrifuging your uranium by hand, you can buy a commercial centrifuge. Fisher Scientific sells one for about . You also might want to be fussier about your design. The Hiroshima bomb, a relatively crude one, only fissioned  percent of its uranium and yielded only  kilotons. In order to fission more of the uranium, the force of your explosive trigger needs to be evenly diffused around the sphere the same pressure has to be exerted on every point of the sphere simultaneously. It was a technique for producing this sort of simultaneous detonation by fashioning the explosives into lenses that the government accused Julius and Ethel Rosenberg of trying to steal.  Part  Putting Your HBomb Together The heart of the Hbomb is the fusion process. Several Abombs are detonated in such a way as to create the extremely high temperature  million degrees C necessary to fuse lithium deuteride LiD into helium. When the lithium nucleus slams into the deuterium nucleus, two helium nuclei are created, and if this happens to enough deuterium nuclei rapidly enough, the result is an enormous amount of energy the energy of the Hbomb. You dont have to worry about stealing lithium deuteride, it can be purchased from any chemicalsupply house. It costs  a pound. If your budget wont allow it you can substitute lithium hydride at  a pound. You will need at least  pounds. Its a corrosive and toxic powder so be careful. Place the lithium deuteride or hydride in glass jars and surround it with four Abombs in their casings. Attach them to the same detonator so that they will go off simultaneously. The container for the whole thing is no problem. They can be placed anywhere Inside an old stereo console, a discarded refrigerator, etc... When the detonator sets off the four Abombs all eight hemispheres of fissionable material will slam into each other at the same time creating four critical masses and four detonations. This will raise the temperature of the lithium deuteride to  million degrees C fast enough a few billionths of a second so that the lithium will not be blown all over the neighborhood before the nuclei have time to fuse. The result, at least  times the punch of the puny Abomb that leveled Hiroshima  million tons of TNT vs.  thousand tons.  Part  What to do With Your Bomb Now that you have a fully assembled Hbomb housed in an attractive console of your choice you may be wondering, What should I do with it? Every family will have to answer this question according to its own tastes and preferences, but you may want to explore some possibilities which have been successfully pioneered by the American government. . Sell Your Bomb and Make a Pile of Money In these days of rising inflation, increasing unemployment, and an uncertain economic outlook, few businesses make as much sense as weapons production. If your career forecast is cloudy, bomb sales may be the only sure way to avoid the humiliation of receiving welfare, or unemployment. Regardless of your present income level, a home Hbomb business can be an invaluable income supplement, and certainly a profitable alternative to selling Tupperware or pirated Girl Scout cookies. Unfortunately for the family bomb business, big government has already cornered a large part of the world market. But this does not mean that there is a shortage of potential customers. The raid on Entebee was the Waterloo of hijacking, and many nationalist groups are now on the alert for new means to get their message across. Theyd jump at the chance to get hold of an Hbomb. Emerging nations which cant ante up enough rice or sugar to buy themselves a reactor from G.E. or Westinghouse are also shopping around. You may wonder about the ethics of selling to nations, or groups, whose goals you may disapprove of. But here again, take a tip from our government forget ideology  its cash that counts. And remember, Hbomb sales have a way of escalating, almost like a chain reaction. Suppose you make a sale to South Yemen which you believe to be a Soviet puppet. Well within a few days some discrete inquiries from North Yemen and possibly the Saudis, the Egyptians and the Ethiopians as well can be expected. Similarly, a sale to the IRA will generate a sale to the Ulster government and a sale to the Tanzanians will bring the Ugandans running, and so forth. It doesnt matter WHICH side youre on, only how many sides there are. Dont forget about the possibility of repeat sales to the same customer. As the experience of both the U.S. and the U.S.S.R. has shown, each individual nation has a potentially infinite need for Hbombs. No customer  no matter how small  can ever have too many. . Use Your Bomb at Home Many families are attracted to the Hbomb simply as a deterrent. A discrete sticker on the door or on the living room window saying This Home Protected by Hbomb will discourage IRS investigators, census takers, and Jehovahs Witnesses. Youll be surprised how fast the crime rate will go down and property values will go up. And once the news gets out that you are a home Hbomb owner youll find that you have unexpected leverage in neighborhood disputes over everything from parking places and stereo noise levels to school tax rates. So relax and enjoy the pride and excitement of home Hbomb ownership!  Is It For You? Lets be honest. The Hbomb isnt for everyone. Frankly there are people who cant handle it. They break out in hives at the very mention of megadeath, fallout, or radiation sickness. The following quiz will help you find out whether you have what it takes for home Hbomb ownership. If you can answer yes to six or more of these questions, then youre emotionally eligible to join the nuclear club. If not, a more conventional weapon may be more your cup of tea, try botulismtoxin, laser rays, or nerve gas. . I ignore the demands of others. . I subscribe to one or more of the following Soldier of Fortune, Hustler, Popular Mechanics, Self. . Though I have many interesting acquaintances, I am my own best friend. . I know what to say after you say Hello, but I am seldom interested in pursuing the conversation. . I have seen the movie The Deer Hunter more than once. . I know that everyone can be a winner if they want to, and I resent whiners. . I own one or more of the following handgun, video game, trash compactor, snowmobile. . I am convinced that leukemia is psychosomatic. . I am aware that most vegetarians are sexually impotent. . I have read evidence that solar energy is a Communist conspiracy.  Myths About Nuclear War Ever since the first mushroom cloud over Hiroshima ushered in the atomic age, a small group of naysayers and doommongers has lobbied, campaigned and demonstrated to convince Americans that Hbomb ownership, along with nuclear power, is dangerous and unhealthy. Using their virtual stranglehold over the media, these people have tried to discredit everything nuclear from energy to war. They have vastly overrated the risks of nuclear bombs and left many Americans feeling demoralized and indecisive not sure where the truth lies. Well, here are the myths, and here are the facts. Myth After a nuclear exchange the earth will no longer be suitable for human habitation. Fact This is completely false. According to one scientist quoted in John McPees The Curve of Binding Energy The largest bomb that has ever been exploded anywhere was  megatons, and that is onethousandth the force of an earthquake, onethousandth the force of a hurricane. We have lived with earthquakes and hurricanes for a long time. Another scientist adds, It is often assumed that a full blown nuclear war would be the end of life on earth. That is far from the truth. To end life on earth would take at least a thousand times the total yield of all the nuclear explosives existing in the world, and probably a lot more. Even if humans succumbed, many forms of life would survive a nuclear freeforall, cockroaches, certain forms of bacteria, and lichens, for instance. Myth Radiation is bad for you. Fact Everything is bad for you if you have too much of it. If you eat too many bananas youll get a stomachache. If you get too much sun you can get sunburned or even skin cancer. Same thing with radiation. Too much may make you feel under the weather, but nuclear industry officials insist that there is no evidence that lowlevel radiation has any really serious adverse effects. And, highlevel radiation may bring unexpected benefits. It speeds up evolution by weeding out unwanted genetic types and creating new ones. Remember the old saying, Two heads are better than one. Nearer to home, its plain that radiation will get rid of pesky crab grass and weeds, and teenagers will find that brief exposure to a nuclear burst vaporizes acne and other skin blemishes. Many survivors of the Hiroshima bomb found that they were free from skin and its attendant problems forever. We hope this clears up any misconceptions you may have had. Enjoy your HBomb!']"
      ]
     },
     "execution_count": 11,
     "metadata": {},
     "output_type": "execute_result"
    }
   ],
   "source": [
    "preprocessed[0:3]"
   ]
  },
  {
   "cell_type": "code",
   "execution_count": 12,
   "metadata": {},
   "outputs": [],
   "source": [
    "labels = list(data['age_category'])"
   ]
  },
  {
   "cell_type": "code",
   "execution_count": 13,
   "metadata": {},
   "outputs": [
    {
     "data": {
      "text/plain": [
       "['10s', '10s', '10s']"
      ]
     },
     "execution_count": 13,
     "metadata": {},
     "output_type": "execute_result"
    }
   ],
   "source": [
    "labels[0:3]"
   ]
  },
  {
   "attachments": {},
   "cell_type": "markdown",
   "metadata": {},
   "source": [
    "Let's make a function to drop text that's too short, and if there aren't any alphabetical bits in it."
   ]
  },
  {
   "cell_type": "code",
   "execution_count": 14,
   "metadata": {},
   "outputs": [],
   "source": [
    "import string\n",
    "\n",
    "def drop_short_text(text, labels, min_length=5):\n",
    "    \"\"\"\n",
    "    Drop elements from `text` and `labels` lists where the length of `text` is less than `min_length`\n",
    "    or where `text` only contains punctuation or is empty\n",
    "    \"\"\"\n",
    "    filtered_text = []\n",
    "    filtered_labels = []\n",
    "    for i in range(len(text)):\n",
    "        if len(text[i]) < min_length or all(char in string.punctuation or char.isspace() for char in text[i]):\n",
    "            # check if text is too short or only contains punctuation or whitespace\n",
    "            continue  # skip to next iteration if true\n",
    "        if not any(c.isalpha() for c in text[i]):\n",
    "            # check if text has at least one alphabet character\n",
    "            continue  # skip to next iteration if false\n",
    "        filtered_text.append(text[i])\n",
    "        filtered_labels.append(labels[i])\n",
    "    return filtered_text, filtered_labels"
   ]
  },
  {
   "cell_type": "code",
   "execution_count": 16,
   "metadata": {},
   "outputs": [
    {
     "name": "stdout",
     "output_type": "stream",
     "text": [
      "681284\n",
      "681284\n"
     ]
    }
   ],
   "source": [
    "print(len(preprocessed))\n",
    "print(len(labels))"
   ]
  },
  {
   "cell_type": "code",
   "execution_count": 17,
   "metadata": {},
   "outputs": [],
   "source": [
    "text, labels = drop_short_text(preprocessed, labels)"
   ]
  },
  {
   "cell_type": "code",
   "execution_count": 18,
   "metadata": {},
   "outputs": [
    {
     "name": "stdout",
     "output_type": "stream",
     "text": [
      "676839\n",
      "676839\n"
     ]
    }
   ],
   "source": [
    "print(len(text))\n",
    "print(len(labels))"
   ]
  },
  {
   "attachments": {},
   "cell_type": "markdown",
   "metadata": {},
   "source": [
    "Okay, looks like we filtered out a good bit. Now, let's split it into train and test sets."
   ]
  },
  {
   "cell_type": "code",
   "execution_count": 20,
   "metadata": {},
   "outputs": [],
   "source": [
    "from sklearn.model_selection import train_test_split\n",
    "\n",
    "train_texts, test_texts, train_labels, test_labels = train_test_split(text, labels, test_size=0.2)"
   ]
  },
  {
   "cell_type": "code",
   "execution_count": 21,
   "metadata": {},
   "outputs": [
    {
     "name": "stdout",
     "output_type": "stream",
     "text": [
      "Accuracy: 0.6376470066780923\n",
      "Top 10 most significant textual features:\n",
      "['oratote', 'comreligion', 'notquiteright', 'holderjoint', 'Muhahahhaha', 'Casacommunitas', 'slurtalking', 'smilingandflirting', 'LisaaaaAAA', 'Reng', 'oratote', 'comreligion', 'notquiteright', 'holderjoint', 'Muhahahhaha', 'smilingandflirting', 'Reng', 'Casacommunitas', 'slurtalking', 'aloofly', 'oratote', 'comreligion', 'notquiteright', 'holderjoint', 'smilingandflirting', 'Muhahahhaha', 'Reng', 'Casacommunitas', 'aloofly', 'slurtalking', 'oratote', 'comreligion', 'notquiteright', 'holderjoint', 'smilingandflirting', 'Muhahahhaha', 'Reng', 'Casacommunitas', 'aloofly', 'CastorKing']\n"
     ]
    }
   ],
   "source": [
    "# Train a classifier on the training data\n",
    "clf, vectorizer = train_word_classifier(train_texts, train_labels)\n",
    "\n",
    "# Evaluate the classifier on the test data\n",
    "accuracy = evaluate_classifier(clf, vectorizer, test_texts, test_labels)\n",
    "\n",
    "# Print the accuracy score\n",
    "print(\"Accuracy:\", accuracy)\n",
    "\n",
    "analyze_features(10, clf, vectorizer)"
   ]
  },
  {
   "cell_type": "code",
   "execution_count": 22,
   "metadata": {},
   "outputs": [
    {
     "name": "stdout",
     "output_type": "stream",
     "text": [
      "Accuracy: 0.45596448200460965\n",
      "Top 10 most significant textual features:\n",
      "['oN', 'rs', 'Kg', 'Uu', 'ti', '\\xa0,', 'iR', ',A', 'wA', 'il', 'oN', 'rs', 'Kg', 'Uu', 'ti', '\\xa0,', 'iR', 'wA', ',A', 'il', 'oN', 'rs', 'Uu', 'Kg', 'ti', '\\xa0,', 'iR', 'wA', ',A', 'sT', 'oN', 'rs', 'Uu', 'ti', '\\xa0,', 'Kg', 'iR', 'wA', ',A', 'sT']\n"
     ]
    }
   ],
   "source": [
    "# Train a classifier on the training data\n",
    "clf, vectorizer = train_classifier(train_texts, train_labels, (2,2))\n",
    "\n",
    "# Evaluate the classifier on the test data\n",
    "accuracy = evaluate_classifier(clf, vectorizer, test_texts, test_labels)\n",
    "\n",
    "# Print the accuracy score\n",
    "print(\"Accuracy:\", accuracy)\n",
    "analyze_features(10, clf, vectorizer)"
   ]
  },
  {
   "cell_type": "code",
   "execution_count": 23,
   "metadata": {},
   "outputs": [
    {
     "name": "stdout",
     "output_type": "stream",
     "text": [
      "Accuracy: 0.4816721824951244\n",
      "Top 10 most significant textual features:\n",
      "['sht', 'MKM', 'YSk', 'i l', 'xTM', 'XNx', 'nge', 'Wxq', 'jvh', '.bd', 'sht', 'MKM', 'YSk', 'xTM', 'i l', 'XNx', 'Wxq', 'nge', 'jvh', '.bd', 'sht', 'MKM', 'YSk', 'xTM', 'i l', 'XNx', 'Wxq', 'nge', 'jvh', '.bd', 'sht', 'MKM', 'YSk', 'xTM', 'i l', 'XNx', 'nge', 'Wxq', 'jvh', '.bd']\n"
     ]
    }
   ],
   "source": [
    "# Train a classifier on the training data\n",
    "clf, vectorizer = train_classifier(train_texts, train_labels, (3,3))\n",
    "\n",
    "# Evaluate the classifier on the test data\n",
    "accuracy = evaluate_classifier(clf, vectorizer, test_texts, test_labels)\n",
    "\n",
    "# Print the accuracy score\n",
    "print(\"Accuracy:\", accuracy)\n",
    "analyze_features(10, clf, vectorizer)\n"
   ]
  },
  {
   "cell_type": "code",
   "execution_count": 24,
   "metadata": {},
   "outputs": [
    {
     "name": "stdout",
     "output_type": "stream",
     "text": [
      "Accuracy: 0.5296968264286981\n",
      "Top 10 most significant textual features:\n",
      "['..eh', 'czx ', 'rUBI', 'earg', 'zzto', 'adhe', 'iaen', 'pami', ' Eee', 'stwi', '..eh', 'czx ', 'rUBI', 'earg', 'zzto', 'adhe', 'pami', 'iaen', ' Eee', 'OfIn', '..eh', 'czx ', 'rUBI', 'earg', 'zzto', 'adhe', 'pami', 'iaen', ' Eee', 'tor!', '..eh', 'czx ', 'rUBI', 'earg', 'zzto', 'adhe', 'pami', 'iaen', ' Eee', 'tor!']\n"
     ]
    }
   ],
   "source": [
    "# Train a classifier on the training data\n",
    "clf, vectorizer = train_classifier(train_texts, train_labels, (4,4))\n",
    "\n",
    "# Evaluate the classifier on the test data\n",
    "accuracy = evaluate_classifier(clf, vectorizer, test_texts, test_labels)\n",
    "\n",
    "# Print the accuracy score\n",
    "print(\"Accuracy:\", accuracy)\n",
    "analyze_features(10, clf, vectorizer)"
   ]
  },
  {
   "cell_type": "code",
   "execution_count": 25,
   "metadata": {},
   "outputs": [
    {
     "name": "stdout",
     "output_type": "stream",
     "text": [
      "Accuracy: 0.5787409136575853\n",
      "Top 10 most significant textual features:\n",
      "['ayabu', '...Ng', 'ilor ', 'hyWeb', 't. .M', 'Anhs ', 'Duuuu', 'mG C ', 'ada?U', '?, mu', 'ayabu', '...Ng', 'ilor ', 'hyWeb', 'Duuuu', 't. .M', 'm dOn', 'mG C ', 'zs la', 'Anhs ', 'ayabu', '...Ng', 'ilor ', 'hyWeb', 'Duuuu', 't. .M', 'm dOn', 'zs la', 'mG C ', 'FOS G', 'ayabu', '...Ng', 'ilor ', 'hyWeb', 'Duuuu', 'm dOn', 't. .M', 's Zen', 'zs la', 'mG C ']\n"
     ]
    }
   ],
   "source": [
    "# Train a classifier on the training data\n",
    "clf, vectorizer = train_classifier(train_texts, train_labels, (5,5))\n",
    "\n",
    "# Evaluate the classifier on the test data\n",
    "accuracy = evaluate_classifier(clf, vectorizer, test_texts, test_labels)\n",
    "\n",
    "# Print the accuracy score\n",
    "print(\"Accuracy:\", accuracy)\n",
    "analyze_features(10, clf, vectorizer)"
   ]
  },
  {
   "cell_type": "code",
   "execution_count": 26,
   "metadata": {},
   "outputs": [
    {
     "name": "stdout",
     "output_type": "stream",
     "text": [
      "Accuracy: 0.6175314697712901\n",
      "Top 10 most significant textual features:\n",
      "['A. Thi', '! daik', 'g de a', 'kur. D', 'oesnt?', 'ohn. I', 'ue, Pu', 'ame, h', 'ND Bel', 'ythmSe', 'A. Thi', 'g de a', '! daik', 'kur. D', 'ohn. I', 'ierenc', 'ue, Pu', 'cccbcc', 'di bid', 'lxsimp', 'A. Thi', 'kur. D', 'g de a', '! daik', 'ierenc', 'ohn. I', 'di bid', 'cccbcc', ' . Aid', 'anma B', 'A. Thi', 'kur. D', 'g de a', '! daik', 'ierenc', ' i tag', 'di bid', 'cccbcc', 'lxsimp', 'ohn. I']\n"
     ]
    }
   ],
   "source": [
    "# Train a classifier on the training data\n",
    "clf, vectorizer = train_classifier(train_texts, train_labels, (6,6))\n",
    "\n",
    "# Evaluate the classifier on the test data\n",
    "accuracy = evaluate_classifier(clf, vectorizer, test_texts, test_labels)\n",
    "\n",
    "# Print the accuracy score\n",
    "print(\"Accuracy:\", accuracy)\n",
    "analyze_features(10, clf, vectorizer)"
   ]
  },
  {
   "cell_type": "code",
   "execution_count": 27,
   "metadata": {},
   "outputs": [
    {
     "name": "stdout",
     "output_type": "stream",
     "text": [
      "Accuracy: 0.6405797529696826\n",
      "Top 10 most significant textual features:\n",
      "['ason, S', 'ofit.As', 'Last xm', 'n. Nana', 'ch warm', '. NO BR', 'cate al', 'nse aff', 'RA! din', 'th aspe', 'ch warm', 'RA! din', 'ason, S', 'cate al', 'nse aff', 'ofit.As', 'nn Proj', ' eh!! d', '. NO BR', 'wns his', 'ch warm', 'nn Proj', ' eh!! d', 'RA! din', 'wns his', 'cate al', 'nse aff', 'ason, S', 'ofit.As', '. NO BR', 'ch warm', 'RA! din', 'th aspe', 'cate al', 'nse aff', 'nn Proj', ' eh!! d', 'ason, S', 'c n na ', '. NO BR']\n"
     ]
    }
   ],
   "source": [
    "# Train a classifier on the training data\n",
    "clf, vectorizer = train_classifier(train_texts, train_labels, (7,7))\n",
    "\n",
    "# Evaluate the classifier on the test data\n",
    "accuracy = evaluate_classifier(clf, vectorizer, test_texts, test_labels)\n",
    "\n",
    "# Print the accuracy score\n",
    "print(\"Accuracy:\", accuracy)\n",
    "analyze_features(10, clf, vectorizer)"
   ]
  },
  {
   "cell_type": "code",
   "execution_count": null,
   "metadata": {},
   "outputs": [],
   "source": []
  }
 ],
 "metadata": {
  "kernelspec": {
   "display_name": "Python 3",
   "language": "python",
   "name": "python3"
  },
  "language_info": {
   "codemirror_mode": {
    "name": "ipython",
    "version": 3
   },
   "file_extension": ".py",
   "mimetype": "text/x-python",
   "name": "python",
   "nbconvert_exporter": "python",
   "pygments_lexer": "ipython3",
   "version": "3.9.6"
  },
  "orig_nbformat": 4,
  "vscode": {
   "interpreter": {
    "hash": "31f2aee4e71d21fbe5cf8b01ff0e069b9275f58929596ceb00d14d90e3e16cd6"
   }
  }
 },
 "nbformat": 4,
 "nbformat_minor": 2
}
