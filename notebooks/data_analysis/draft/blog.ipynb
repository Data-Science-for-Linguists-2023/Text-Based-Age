{
 "cells": [
  {
   "attachments": {},
   "cell_type": "markdown",
   "metadata": {},
   "source": [
    "## Age Classificaion/Analysis of Text and Age\n",
    "\n",
    "Let's actually start with a classification model, gather the results, and then investigate.\n",
    "\n",
    "Here's the plan for the upcoming work in the notebook --\n",
    "\n",
    "- CountVectorizer (vector representation of text) on N-grams\n",
    "- Train a Naive Bayes Classifier\n",
    "- Look at most significant features\n",
    "- Form hypotheses and iterate"
   ]
  },
  {
   "cell_type": "code",
   "execution_count": 2,
   "metadata": {},
   "outputs": [],
   "source": [
    "# Import necessary libraries\n",
    "import pandas as pd\n",
    "import numpy as np\n",
    "import matplotlib.pyplot as plt"
   ]
  },
  {
   "cell_type": "code",
   "execution_count": 3,
   "metadata": {},
   "outputs": [
    {
     "data": {
      "text/html": [
       "<div>\n",
       "<style scoped>\n",
       "    .dataframe tbody tr th:only-of-type {\n",
       "        vertical-align: middle;\n",
       "    }\n",
       "\n",
       "    .dataframe tbody tr th {\n",
       "        vertical-align: top;\n",
       "    }\n",
       "\n",
       "    .dataframe thead th {\n",
       "        text-align: right;\n",
       "    }\n",
       "</style>\n",
       "<table border=\"1\" class=\"dataframe\">\n",
       "  <thead>\n",
       "    <tr style=\"text-align: right;\">\n",
       "      <th></th>\n",
       "      <th>id</th>\n",
       "      <th>gender</th>\n",
       "      <th>age</th>\n",
       "      <th>topic</th>\n",
       "      <th>sign</th>\n",
       "      <th>date</th>\n",
       "      <th>text</th>\n",
       "    </tr>\n",
       "  </thead>\n",
       "  <tbody>\n",
       "    <tr>\n",
       "      <th>0</th>\n",
       "      <td>2059027</td>\n",
       "      <td>male</td>\n",
       "      <td>15</td>\n",
       "      <td>Student</td>\n",
       "      <td>Leo</td>\n",
       "      <td>14,May,2004</td>\n",
       "      <td>Info has been found (+/- 100 pages,...</td>\n",
       "    </tr>\n",
       "    <tr>\n",
       "      <th>1</th>\n",
       "      <td>2059027</td>\n",
       "      <td>male</td>\n",
       "      <td>15</td>\n",
       "      <td>Student</td>\n",
       "      <td>Leo</td>\n",
       "      <td>13,May,2004</td>\n",
       "      <td>These are the team members:   Drewe...</td>\n",
       "    </tr>\n",
       "    <tr>\n",
       "      <th>2</th>\n",
       "      <td>2059027</td>\n",
       "      <td>male</td>\n",
       "      <td>15</td>\n",
       "      <td>Student</td>\n",
       "      <td>Leo</td>\n",
       "      <td>12,May,2004</td>\n",
       "      <td>In het kader van kernfusie op aarde...</td>\n",
       "    </tr>\n",
       "    <tr>\n",
       "      <th>3</th>\n",
       "      <td>2059027</td>\n",
       "      <td>male</td>\n",
       "      <td>15</td>\n",
       "      <td>Student</td>\n",
       "      <td>Leo</td>\n",
       "      <td>12,May,2004</td>\n",
       "      <td>testing!!!  testing!!!</td>\n",
       "    </tr>\n",
       "    <tr>\n",
       "      <th>4</th>\n",
       "      <td>3581210</td>\n",
       "      <td>male</td>\n",
       "      <td>33</td>\n",
       "      <td>InvestmentBanking</td>\n",
       "      <td>Aquarius</td>\n",
       "      <td>11,June,2004</td>\n",
       "      <td>Thanks to Yahoo!'s Toolbar I can ...</td>\n",
       "    </tr>\n",
       "  </tbody>\n",
       "</table>\n",
       "</div>"
      ],
      "text/plain": [
       "        id gender  age              topic      sign          date  \\\n",
       "0  2059027   male   15            Student       Leo   14,May,2004   \n",
       "1  2059027   male   15            Student       Leo   13,May,2004   \n",
       "2  2059027   male   15            Student       Leo   12,May,2004   \n",
       "3  2059027   male   15            Student       Leo   12,May,2004   \n",
       "4  3581210   male   33  InvestmentBanking  Aquarius  11,June,2004   \n",
       "\n",
       "                                                text  \n",
       "0             Info has been found (+/- 100 pages,...  \n",
       "1             These are the team members:   Drewe...  \n",
       "2             In het kader van kernfusie op aarde...  \n",
       "3                   testing!!!  testing!!!            \n",
       "4               Thanks to Yahoo!'s Toolbar I can ...  "
      ]
     },
     "execution_count": 3,
     "metadata": {},
     "output_type": "execute_result"
    }
   ],
   "source": [
    "# Load the dataset\n",
    "data = pd.read_csv('../../data/blogtext 2.csv')\n",
    "data.head()"
   ]
  },
  {
   "cell_type": "code",
   "execution_count": 4,
   "metadata": {},
   "outputs": [
    {
     "data": {
      "text/html": [
       "<div>\n",
       "<style scoped>\n",
       "    .dataframe tbody tr th:only-of-type {\n",
       "        vertical-align: middle;\n",
       "    }\n",
       "\n",
       "    .dataframe tbody tr th {\n",
       "        vertical-align: top;\n",
       "    }\n",
       "\n",
       "    .dataframe thead th {\n",
       "        text-align: right;\n",
       "    }\n",
       "</style>\n",
       "<table border=\"1\" class=\"dataframe\">\n",
       "  <thead>\n",
       "    <tr style=\"text-align: right;\">\n",
       "      <th></th>\n",
       "      <th>age</th>\n",
       "      <th>text</th>\n",
       "      <th>age_category</th>\n",
       "    </tr>\n",
       "  </thead>\n",
       "  <tbody>\n",
       "    <tr>\n",
       "      <th>0</th>\n",
       "      <td>15</td>\n",
       "      <td>Info has been found (+/- 100 pages, and 4.5 MB...</td>\n",
       "      <td>10s</td>\n",
       "    </tr>\n",
       "    <tr>\n",
       "      <th>1</th>\n",
       "      <td>15</td>\n",
       "      <td>These are the team members:   Drewes van der L...</td>\n",
       "      <td>10s</td>\n",
       "    </tr>\n",
       "    <tr>\n",
       "      <th>2</th>\n",
       "      <td>15</td>\n",
       "      <td>In het kader van kernfusie op aarde:  MAAK JE ...</td>\n",
       "      <td>10s</td>\n",
       "    </tr>\n",
       "    <tr>\n",
       "      <th>3</th>\n",
       "      <td>15</td>\n",
       "      <td>testing!!!  testing!!!</td>\n",
       "      <td>10s</td>\n",
       "    </tr>\n",
       "    <tr>\n",
       "      <th>4</th>\n",
       "      <td>33</td>\n",
       "      <td>Thanks to Yahoo!'s Toolbar I can now 'capture'...</td>\n",
       "      <td>30s</td>\n",
       "    </tr>\n",
       "  </tbody>\n",
       "</table>\n",
       "</div>"
      ],
      "text/plain": [
       "   age                                               text age_category\n",
       "0   15  Info has been found (+/- 100 pages, and 4.5 MB...          10s\n",
       "1   15  These are the team members:   Drewes van der L...          10s\n",
       "2   15  In het kader van kernfusie op aarde:  MAAK JE ...          10s\n",
       "3   15                             testing!!!  testing!!!          10s\n",
       "4   33  Thanks to Yahoo!'s Toolbar I can now 'capture'...          30s"
      ]
     },
     "execution_count": 4,
     "metadata": {},
     "output_type": "execute_result"
    }
   ],
   "source": [
    "data['text'] = data['text'].str.strip()\n",
    "data = data.drop(['id', 'gender', 'topic', 'sign', 'date'], axis = 1)\n",
    "data['age_category'] = pd.cut(data['age'], bins=[10, 19, 29, 39], labels=['10s', '20s', '30s'])\n",
    "data.head()\n"
   ]
  },
  {
   "cell_type": "code",
   "execution_count": 5,
   "metadata": {},
   "outputs": [],
   "source": [
    "from sklearn.feature_extraction.text import CountVectorizer\n",
    "from sklearn.naive_bayes import MultinomialNB\n",
    "from sklearn.metrics import accuracy_score\n",
    "\n",
    "\n",
    "def train_classifier(texts, labels, ngrams):\n",
    "    # create a CountVectorizer with character-based bigrams\n",
    "    vectorizer = CountVectorizer(analyzer='char', ngram_range=ngrams, lowercase=False, stop_words=None)\n",
    "    X = vectorizer.fit_transform(texts)\n",
    "    # train the classifier and return it\n",
    "    clf = MultinomialNB()\n",
    "    clf.fit(X, labels)\n",
    "    return clf, vectorizer\n",
    "\n",
    "def train_word_classifier(texts, labels):\n",
    "    # create a CountVectorizer with words\n",
    "    vectorizer = CountVectorizer(lowercase=False, stop_words=None)\n",
    "    X = vectorizer.fit_transform(texts)\n",
    "    # train the classifier and return it\n",
    "    clf = MultinomialNB()\n",
    "    clf.fit(X, labels)\n",
    "    return clf, vectorizer\n",
    "\n",
    "def predict_age_group(classifier, vectorizer, new_text):\n",
    "    # take in a classifier as input and return the prediction\n",
    "    new_X = vectorizer.transform([new_text])\n",
    "    predicted_age_group = classifier.predict(new_X)\n",
    "    return predicted_age_group\n",
    "\n",
    "def evaluate_classifier(classifier, vectorizer, test_texts, test_labels):\n",
    "    # transform the test data\n",
    "    X_test = vectorizer.transform(test_texts)\n",
    "    # predict the age group and return score\n",
    "    predicted_age_groups = classifier.predict(X_test)\n",
    "    return accuracy_score(test_labels, predicted_age_groups)\n",
    "\n",
    "\n",
    "def analyze_features(N, clf, vec):\n",
    "    feature_names = list(vec.vocabulary_.keys())\n",
    "    log_prob = clf.feature_log_prob_\n",
    "    top_N_features = []\n",
    "    for i in range(clf.classes_.shape[0]):\n",
    "        top_N_indices = log_prob[i].argsort()[::-1][:N]\n",
    "        top_N_features.extend([feature_names[idx] for idx in top_N_indices])\n",
    "    print(\"Top {} most significant textual features:\".format(N))\n",
    "    print(top_N_features)\n"
   ]
  },
  {
   "cell_type": "code",
   "execution_count": 6,
   "metadata": {},
   "outputs": [],
   "source": [
    "from sklearn.model_selection import train_test_split\n",
    "\n",
    "train_texts, test_texts, train_labels, test_labels = train_test_split(list(data['text']), list(data['age_category']), test_size=0.2)"
   ]
  },
  {
   "attachments": {},
   "cell_type": "markdown",
   "metadata": {},
   "source": [
    "Let's see if preprocessing matters. But first, let's get a bench mark."
   ]
  },
  {
   "cell_type": "code",
   "execution_count": 8,
   "metadata": {},
   "outputs": [
    {
     "name": "stdout",
     "output_type": "stream",
     "text": [
      "Accuracy: 0.6355343211724902\n",
      "Top 10 most significant textual features:\n",
      "['concommitent', 'Porthcawl', 'Mazaa', 'Republispeak', 'غیرت', 'alcanza', 'tabindex', 'compañia', 'wangouette', 'Mathie', 'concommitent', 'Porthcawl', 'Mazaa', 'Republispeak', 'alcanza', 'wangouette', 'غیرت', 'Mathie', 'tabindex', 'Forgetaboutit', 'concommitent', 'Porthcawl', 'Mazaa', 'Republispeak', 'wangouette', 'alcanza', 'غیرت', 'Mathie', 'Forgetaboutit', 'tabindex', 'concommitent', 'Porthcawl', 'Mazaa', 'Republispeak', 'wangouette', 'alcanza', 'Mathie', 'غیرت', 'Forgetaboutit', 'Offee']\n"
     ]
    }
   ],
   "source": [
    "# Train a classifier on the training data\n",
    "clf, vectorizer = train_word_classifier(train_texts, train_labels)\n",
    "\n",
    "# Evaluate the classifier on the test data\n",
    "accuracy = evaluate_classifier(clf, vectorizer, test_texts, test_labels)\n",
    "\n",
    "# Print the accuracy score\n",
    "print(\"Accuracy:\", accuracy)\n",
    "\n",
    "analyze_features(10, clf, vectorizer)"
   ]
  },
  {
   "cell_type": "code",
   "execution_count": null,
   "metadata": {},
   "outputs": [
    {
     "name": "stdout",
     "output_type": "stream",
     "text": [
      "Accuracy: 0.4693116683913487\n",
      "Top 10 most significant textual features:\n",
      "[' 嘻', 'ce', '仲想', '同聲', ' g', '聲話', '但偏', '是向', '^6', \"n'\", ' 嘻', 'ce', '仲想', '同聲', ' g', '聲話', '但偏', '^6', '是向', \"n'\", ' 嘻', 'ce', '同聲', '仲想', ' g', '聲話', '但偏', '^6', '是向', ' Ａ', ' 嘻', 'ce', '同聲', ' g', '但偏', '仲想', '聲話', '^6', '是向', ' Ａ']\n"
     ]
    }
   ],
   "source": [
    "# Train a classifier on the training data\n",
    "clf, vectorizer = train_classifier(train_texts, train_labels, (2,2))\n",
    "\n",
    "# Evaluate the classifier on the test data\n",
    "accuracy = evaluate_classifier(clf, vectorizer, test_texts, test_labels)\n",
    "\n",
    "# Print the accuracy score\n",
    "print(\"Accuracy:\", accuracy)\n",
    "analyze_features(10, clf, vectorizer)"
   ]
  },
  {
   "attachments": {},
   "cell_type": "markdown",
   "metadata": {},
   "source": [
    "Okay, let's do some preprocessing to keep all english"
   ]
  },
  {
   "cell_type": "code",
   "execution_count": null,
   "metadata": {},
   "outputs": [],
   "source": [
    "import re\n",
    "\n",
    "def partial_preprocess_texts(texts):\n",
    "    preprocessed_texts = []\n",
    "    \n",
    "    for text in texts:        \n",
    "        # remove non-alphanumeric characters except for spaces\n",
    "        text = re.sub(r'[^a-z\\s]', '', text)\n",
    "                \n",
    "        # re-join the tokens into a single string\n",
    "        preprocessed_text = text\n",
    "        \n",
    "        preprocessed_texts.append(preprocessed_text)\n",
    "    \n",
    "    return preprocessed_texts\n"
   ]
  },
  {
   "cell_type": "code",
   "execution_count": null,
   "metadata": {},
   "outputs": [],
   "source": [
    "partial_preprocessed_train, partial_preprocessed_test = partial_preprocess_texts(train_texts), partial_preprocess_texts(test_texts)"
   ]
  },
  {
   "cell_type": "code",
   "execution_count": null,
   "metadata": {},
   "outputs": [
    {
     "name": "stdout",
     "output_type": "stream",
     "text": [
      "Accuracy: 0.4713152351805779\n",
      "Top 10 most significant textual features:\n",
      "['lt', 'ex', 'lh', ' o', 'hx', 'vt', ' p', 'lk', 'ws', '\\xa0n', 'lt', 'ex', 'lh', ' o', 'hx', 'vt', ' p', 'lk', 'ws', 'bl', 'lt', 'ex', ' o', 'lh', 'hx', 'vt', 'lk', ' p', 'ws', 'bl', 'lt', 'ex', 'hx', ' o', 'lh', 'vt', 'lk', ' p', 'ws', 'bl']\n"
     ]
    }
   ],
   "source": [
    "# Train a classifier on the training data\n",
    "clf, vectorizer = train_classifier(partial_preprocessed_train, train_labels, (2,2))\n",
    "\n",
    "# Evaluate the classifier on the test data\n",
    "accuracy = evaluate_classifier(clf, vectorizer, partial_preprocessed_test, test_labels)\n",
    "\n",
    "# Print the accuracy score\n",
    "print(\"Accuracy:\", accuracy)\n",
    "analyze_features(10, clf, vectorizer)"
   ]
  },
  {
   "cell_type": "code",
   "execution_count": null,
   "metadata": {},
   "outputs": [],
   "source": [
    "import re\n",
    "\n",
    "def preprocess_texts(texts):\n",
    "    preprocessed_texts = []\n",
    "    \n",
    "    for text in texts:\n",
    "        # lowercase the text\n",
    "        text = text.lower()\n",
    "        \n",
    "        # remove URLs and email addresses\n",
    "        text = re.sub(r'http\\S+|www\\S+|https\\S+|ftp\\S+|@\\S+', '', text, flags=re.MULTILINE)\n",
    "        \n",
    "        # remove non-alphanumeric characters except for spaces\n",
    "        text = re.sub(r'[^a-z\\s]', '', text)\n",
    "        \n",
    "        # remove extra whitespace\n",
    "        text = re.sub(r'\\s+', ' ', text).strip()\n",
    "        \n",
    "        # re-join the tokens into a single string\n",
    "        preprocessed_text = text\n",
    "        \n",
    "        preprocessed_texts.append(preprocessed_text)\n",
    "    \n",
    "    return preprocessed_texts\n"
   ]
  },
  {
   "cell_type": "code",
   "execution_count": null,
   "metadata": {},
   "outputs": [],
   "source": [
    "preprocessed_train, preprocess_test = preprocess_texts(train_texts), preprocess_texts(test_texts)"
   ]
  },
  {
   "cell_type": "code",
   "execution_count": null,
   "metadata": {},
   "outputs": [
    {
     "name": "stdout",
     "output_type": "stream",
     "text": [
      "Accuracy: 0.6380883183983208\n",
      "Top 10 most significant textual features:\n",
      "['waorcaaknvidutazhimtwy', 'pinangatawanan', 'responsiblity', 'squashesmelonszucchiniscucumbers', 'dotnessyness', 'wigglemunch', 'ppk', 'topicsquestions', 'modissa', 'blkdeth', 'waorcaaknvidutazhimtwy', 'pinangatawanan', 'responsiblity', 'squashesmelonszucchiniscucumbers', 'modissa', 'wigglemunch', 'dotnessyness', 'blkdeth', 'ppk', 'mittendorff', 'waorcaaknvidutazhimtwy', 'pinangatawanan', 'responsiblity', 'squashesmelonszucchiniscucumbers', 'modissa', 'wigglemunch', 'dotnessyness', 'blkdeth', 'mittendorff', 'ppk', 'waorcaaknvidutazhimtwy', 'pinangatawanan', 'responsiblity', 'squashesmelonszucchiniscucumbers', 'modissa', 'wigglemunch', 'blkdeth', 'dotnessyness', 'mittendorff', 'dazi']\n"
     ]
    }
   ],
   "source": [
    "# Train a classifier on the training data\n",
    "clf, vectorizer = train_word_classifier(preprocessed_train, train_labels)\n",
    "\n",
    "# Evaluate the classifier on the test data\n",
    "accuracy = evaluate_classifier(clf, vectorizer, preprocess_test, test_labels)\n",
    "\n",
    "# Print the accuracy score\n",
    "print(\"Accuracy:\", accuracy)\n",
    "analyze_features(10, clf, vectorizer)"
   ]
  },
  {
   "cell_type": "code",
   "execution_count": null,
   "metadata": {},
   "outputs": [
    {
     "data": {
      "text/plain": [
       "['hello again this is the offical no action blog an extension of the no action column that can be found on urllink every month for anyone who stumbled in here i am anthony eldridge and no action is a monthly rock n roll column on thefootnotecom a monthly opinion webzine for those of you that came over from tfn i salute you the pupose of the blog is to get your opinions on the various subjects i write about the main concern of no action is how rock music fits into our culture not just my personal tastes therefore im going to be asking for your opinion on various matters which will help with the column you can also expect more inane ramblings on rock music and if youve followed me this far you must like that anyway keep checking in periodically and dont forget to read the footnote on the first of every month',\n",
       " 'omg how the hell did i forget today is unofficial st pattys day green beer early bar openings damn allison i kno ure gonna be in murphys at is anyone else gonna be anywhere i have to work at boo but i have a good hour and a half to get tipsy b work fun fun fun wow today is lookin good',\n",
       " 'yeah i was confused silly me silly me and my silly brain that likes to blow things out of proportion he was joking around but so was i',\n",
       " 'beat that does this mean i get to drive miles before my next oil change',\n",
       " 'thanks to the urllink wedding vendors the ethnic origin of daanaa was not written correctly in urllink meaning of daanaa i sent them an email and they corrected it']"
      ]
     },
     "execution_count": 14,
     "metadata": {},
     "output_type": "execute_result"
    }
   ],
   "source": [
    "preprocessed_train[0:5]"
   ]
  },
  {
   "cell_type": "code",
   "execution_count": null,
   "metadata": {},
   "outputs": [
    {
     "name": "stdout",
     "output_type": "stream",
     "text": [
      "Accuracy: 0.467880549256185\n",
      "Top 10 most significant textual features:\n",
      "['pu', 'of', 'vu', 'he', 'zr', 'vd', 'ai', 'oc', 'nn', 'eo', 'pu', 'of', 'vu', 'zr', 'he', 'vd', 'ai', 'nn', 'oc', 'eo', 'pu', 'of', 'vu', 'zr', 'vd', 'he', 'nn', 'ai', 'oc', 'eo', 'pu', 'of', 'zr', 'vd', 'he', 'vu', 'nn', 'oc', 'eo', 'ai']\n"
     ]
    }
   ],
   "source": [
    "# Train a classifier on the training data\n",
    "clf, vectorizer = train_classifier(preprocessed_train, train_labels, (2,2))\n",
    "\n",
    "# Evaluate the classifier on the test data\n",
    "accuracy = evaluate_classifier(clf, vectorizer, preprocess_test, test_labels)\n",
    "\n",
    "# Print the accuracy score\n",
    "print(\"Accuracy:\", accuracy)\n",
    "analyze_features(10, clf, vectorizer)\n"
   ]
  },
  {
   "cell_type": "markdown",
   "metadata": {},
   "source": []
  },
  {
   "cell_type": "code",
   "execution_count": null,
   "metadata": {},
   "outputs": [
    {
     "name": "stdout",
     "output_type": "stream",
     "text": [
      "Accuracy: 0.6405689248992712\n"
     ]
    }
   ],
   "source": [
    "# Train a classifier on the training data\n",
    "clf, vectorizer = train_word_classifier(preprocessed_train, train_labels)\n",
    "\n",
    "# Evaluate the classifier on the test data\n",
    "accuracy = evaluate_classifier(clf, vectorizer, preprocess_test, test_labels)\n",
    "\n",
    "# Print the accuracy score\n",
    "print(\"Accuracy:\", accuracy)\n",
    "analyze_features(10, clf, vectorizer)"
   ]
  },
  {
   "attachments": {},
   "cell_type": "markdown",
   "metadata": {},
   "source": [
    "finished preprocessing vs raw data. let's see what features were learned"
   ]
  },
  {
   "attachments": {},
   "cell_type": "markdown",
   "metadata": {},
   "source": [
    "How about feature engineering?"
   ]
  },
  {
   "cell_type": "code",
   "execution_count": null,
   "metadata": {},
   "outputs": [],
   "source": [
    "\"\"\"\n",
    "A bunch of helper functions for analysis of text, utilized by an effective main.\n",
    "The plan is to use it for feature engineering / quantitative insights on code.\n",
    "\"\"\"\n",
    "\n",
    "import string\n",
    "\n",
    "def count_double_spaces(text):\n",
    "    \"\"\"\n",
    "    number of occurrences of double spaces in the given text (thanks Dr. Han!)\n",
    "    \"\"\"\n",
    "    words = text.split()\n",
    "    count = sum([1 for w in words if '  ' in w])\n",
    "    return count\n",
    "\n",
    "  \n",
    "def count_punctuation(text):\n",
    "    \"\"\"\n",
    "    number of punctuation marks in the given text.\n",
    "    \"\"\"\n",
    "    return sum([1 for c in text if c in string.punctuation])\n",
    "\n",
    "\n",
    "def calculate_punct_density(text):\n",
    "    \"\"\"\n",
    "    punctuation density (# of punctuation / len of text)\n",
    "    \"\"\"\n",
    "    total_chars = len(text)\n",
    "    punct_count = count_punctuation(text)\n",
    "    return 0 if total_chars == 0 else punct_count / total_chars\n",
    "\n",
    "\n",
    "def count_exclamation_marks(text):\n",
    "    \"\"\"\n",
    "    number of exclamation marks\n",
    "    \"\"\"\n",
    "    return text.count('!')\n",
    "\n",
    "\n",
    "def count_question_marks(text):\n",
    "    \"\"\"\n",
    "    number of question marks\n",
    "    \"\"\"\n",
    "    return text.count('?')\n",
    "\n",
    "\n",
    "def calculate_exclamation_ratio(text):\n",
    "    \"\"\"\n",
    "    ratio of exclamation marks to the total number of punctuation marks\n",
    "    \"\"\"\n",
    "    punct_count = count_punctuation(text)\n",
    "    exclamation_count = count_exclamation_marks(text)\n",
    "    return 0 if punct_count == 0 else exclamation_count / punct_count\n",
    "\n",
    "\n",
    "def calculate_question_ratio(text):\n",
    "    \"\"\"\n",
    "    ratio of question marks to the total number of punctuation marks\n",
    "    \"\"\"\n",
    "    punct_count = count_punctuation(text)\n",
    "    question_count = count_question_marks(text)\n",
    "    return 0 if punct_count == 0 else question_count / punct_count\n",
    "\n",
    "\n",
    "def analyze(text):\n",
    "    \"\"\"\n",
    "    returns everything\n",
    "    \"\"\"\n",
    "    return {\n",
    "        \"punct_count\": count_punctuation(text),\n",
    "        \"punct_density\": calculate_punct_density(text),\n",
    "        \"exclamation_ratio\": calculate_exclamation_ratio(text),\n",
    "        \"question_ratio\": calculate_question_ratio(text),\n",
    "        \"double_spaces\": count_double_spaces(text),\n",
    "    }\n"
   ]
  },
  {
   "cell_type": "code",
   "execution_count": null,
   "metadata": {},
   "outputs": [
    {
     "name": "stdout",
     "output_type": "stream",
     "text": [
      "Accuracy: 0.4711757928033055\n"
     ]
    }
   ],
   "source": [
    "def extract_features(texts):\n",
    "    \"\"\"\n",
    "    extract features from a list of texts using the analyze function\n",
    "    \"\"\"\n",
    "    features = []\n",
    "    for text in texts:\n",
    "        analysis = analyze(text)\n",
    "        features.append([\n",
    "            analysis[\"punct_count\"],\n",
    "            analysis[\"punct_density\"],\n",
    "            analysis[\"exclamation_ratio\"],\n",
    "            analysis[\"question_ratio\"],\n",
    "            analysis[\"double_spaces\"],\n",
    "        ])\n",
    "    return np.array(features)\n",
    "\n",
    "def train_model(X_train, y_train):\n",
    "    \"\"\"\n",
    "    trains a Multinomial Naive Bayes model on the training data\n",
    "    \"\"\"\n",
    "    model = MultinomialNB()\n",
    "    model.fit(X_train, y_train)\n",
    "    return model\n",
    "\n",
    "def evaluate_model(model, X_test, y_test):\n",
    "    \"\"\"\n",
    "    evaluates the accuracy of the model on the testing data\n",
    "    \"\"\"\n",
    "    y_pred = model.predict(X_test)\n",
    "    accuracy = accuracy_score(y_test, y_pred)\n",
    "    return accuracy\n",
    "\n",
    "\n",
    "# extract features from the training data\n",
    "X_train = extract_features(preprocessed_train)\n",
    "y_train = train_labels\n",
    "\n",
    "# train the model\n",
    "model = train_model(X_train, y_train)\n",
    "\n",
    "# extract features from the testing data\n",
    "X_test = extract_features(preprocess_test)\n",
    "y_test = test_labels\n",
    "\n",
    "# evaluate the model on the testing data\n",
    "accuracy = evaluate_model(model, X_test, y_test)\n",
    "\n",
    "# print the accuracy\n",
    "print(f\"Accuracy: {accuracy}\")\n"
   ]
  },
  {
   "cell_type": "code",
   "execution_count": null,
   "metadata": {},
   "outputs": [
    {
     "name": "stdout",
     "output_type": "stream",
     "text": [
      "Accuracy: 0.557270452160256\n"
     ]
    }
   ],
   "source": [
    "from sklearn.pipeline import Pipeline\n",
    "from sklearn.feature_extraction.text import CountVectorizer\n",
    "from sklearn.feature_selection import SelectKBest, chi2\n",
    "from sklearn.preprocessing import StandardScaler\n",
    "from sklearn.naive_bayes import MultinomialNB\n",
    "from sklearn.metrics import accuracy_score\n",
    "from sklearn.pipeline import FeatureUnion\n",
    "from sklearn.preprocessing import FunctionTransformer\n",
    "\n",
    "# create a pipeline that first extracts hand-crafted features,\n",
    "# then vectorizes the texts using CountVectorizer, and finally applies\n",
    "# feature selection using SelectKBest with chi2 and scaling using StandardScaler,\n",
    "# before training a Multinomial Naive Bayes classifier\n",
    "pipeline = Pipeline([\n",
    "    ('extract_features', FeatureUnion([\n",
    "        ('handcrafted', FunctionTransformer(extract_features)),\n",
    "        ('vectorize', CountVectorizer()),\n",
    "    ])),\n",
    "    ('feature_selection', SelectKBest(chi2, k=1000)),\n",
    "    ('scaling', StandardScaler(with_mean=False)),\n",
    "    ('classification', MultinomialNB()),\n",
    "])\n",
    "\n",
    "# train the model\n",
    "pipeline.fit(train_texts, train_labels)\n",
    "\n",
    "# evaluate the model on the testing data\n",
    "y_pred = pipeline.predict(test_texts)\n",
    "accuracy = accuracy_score(test_labels, y_pred)\n",
    "\n",
    "# print the accuracy\n",
    "print(f\"Accuracy: {accuracy}\")"
   ]
  },
  {
   "attachments": {},
   "cell_type": "markdown",
   "metadata": {},
   "source": [
    "Looks like it actually brings down the accuracy, looks like my feature engineering really doesn't help"
   ]
  },
  {
   "attachments": {},
   "cell_type": "markdown",
   "metadata": {},
   "source": [
    "Now, the next step is to form a way to test the feature engineering and the preprocessing, we can see if the BoW or the Character-level N-grams.\n",
    "\n",
    "Let's work with the preprocessed text for now."
   ]
  },
  {
   "cell_type": "code",
   "execution_count": null,
   "metadata": {},
   "outputs": [
    {
     "name": "stdout",
     "output_type": "stream",
     "text": [
      "Accuracy: 0.6380883183983208\n",
      "Top 10 most significant textual features:\n",
      "['waorcaaknvidutazhimtwy', 'pinangatawanan', 'responsiblity', 'squashesmelonszucchiniscucumbers', 'dotnessyness', 'wigglemunch', 'ppk', 'topicsquestions', 'modissa', 'blkdeth', 'waorcaaknvidutazhimtwy', 'pinangatawanan', 'responsiblity', 'squashesmelonszucchiniscucumbers', 'modissa', 'wigglemunch', 'dotnessyness', 'blkdeth', 'ppk', 'mittendorff', 'waorcaaknvidutazhimtwy', 'pinangatawanan', 'responsiblity', 'squashesmelonszucchiniscucumbers', 'modissa', 'wigglemunch', 'dotnessyness', 'blkdeth', 'mittendorff', 'ppk', 'waorcaaknvidutazhimtwy', 'pinangatawanan', 'responsiblity', 'squashesmelonszucchiniscucumbers', 'modissa', 'wigglemunch', 'blkdeth', 'dotnessyness', 'mittendorff', 'dazi']\n"
     ]
    }
   ],
   "source": [
    "# Train a classifier on the training data\n",
    "clf, vectorizer = train_word_classifier(preprocessed_train, train_labels)\n",
    "\n",
    "# Evaluate the classifier on the test data\n",
    "accuracy = evaluate_classifier(clf, vectorizer, preprocess_test, test_labels)\n",
    "\n",
    "# Print the accuracy score\n",
    "print(\"Accuracy:\", accuracy)\n",
    "analyze_features(10, clf, vectorizer)"
   ]
  },
  {
   "cell_type": "code",
   "execution_count": null,
   "metadata": {},
   "outputs": [
    {
     "name": "stdout",
     "output_type": "stream",
     "text": [
      "Accuracy: 0.4563435273050192\n",
      "Top 10 most significant textual features:\n",
      "['h', 'nui', 'swy', 'w t', 'gdn', 'onz', 'nrd', 'oxp', 'cbs', 'yks', 'h', 'nui', 'swy', 'w t', 'gdn', 'onz', 'nrd', 'oxp', 'yks', 'cbs', 'h', 'nui', 'swy', 'w t', 'gdn', 'onz', 'nrd', 'oxp', 'yks', 'cbs', 'h', 'nui', 'swy', 'w t', 'gdn', 'onz', 'nrd', 'oxp', 'yks', 'cbs']\n"
     ]
    }
   ],
   "source": [
    "# Train a classifier on the training data\n",
    "clf, vectorizer = train_classifier(preprocessed_train, train_labels, (1,3))\n",
    "\n",
    "# Evaluate the classifier on the test data\n",
    "accuracy = evaluate_classifier(clf, vectorizer, preprocess_test, test_labels)\n",
    "\n",
    "# Print the accuracy score\n",
    "print(\"Accuracy:\", accuracy)\n",
    "analyze_features(10, clf, vectorizer)"
   ]
  },
  {
   "cell_type": "code",
   "execution_count": null,
   "metadata": {},
   "outputs": [
    {
     "name": "stdout",
     "output_type": "stream",
     "text": [
      "Accuracy: 0.467880549256185\n",
      "Top 10 most significant textual features:\n",
      "['pu', 'of', 'vu', 'he', 'zr', 'vd', 'ai', 'oc', 'nn', 'eo', 'pu', 'of', 'vu', 'zr', 'he', 'vd', 'ai', 'nn', 'oc', 'eo', 'pu', 'of', 'vu', 'zr', 'vd', 'he', 'nn', 'ai', 'oc', 'eo', 'pu', 'of', 'zr', 'vd', 'he', 'vu', 'nn', 'oc', 'eo', 'ai']\n"
     ]
    }
   ],
   "source": [
    "# Train a classifier on the training data\n",
    "clf, vectorizer = train_classifier(preprocessed_train, train_labels, (2,2))\n",
    "\n",
    "# Evaluate the classifier on the test data\n",
    "accuracy = evaluate_classifier(clf, vectorizer, preprocess_test, test_labels)\n",
    "\n",
    "# Print the accuracy score\n",
    "print(\"Accuracy:\", accuracy)\n",
    "analyze_features(10, clf, vectorizer)"
   ]
  },
  {
   "cell_type": "code",
   "execution_count": null,
   "metadata": {},
   "outputs": [
    {
     "name": "stdout",
     "output_type": "stream",
     "text": [
      "Accuracy: 0.47428755953822554\n",
      "Top 10 most significant textual features:\n",
      "['kno', 'jsy', 'lb ', ' tf', 'a b', 'juv', 'igk', 'tzd', 'is ', 'yan', 'kno', 'jsy', 'lb ', 'juv', 'tzd', 'a b', 'igk', 'is ', ' tf', 'oyv', 'kno', 'jsy', 'lb ', 'juv', 'tzd', 'a b', 'igk', 'is ', 'oyv', 'yan', 'kno', 'jsy', 'lb ', 'juv', 'a b', 'tzd', 'igk', 'is ', 'oyv', 'yan']\n"
     ]
    }
   ],
   "source": [
    "# Train a classifier on the training data\n",
    "clf, vectorizer = train_classifier(preprocessed_train, train_labels, (3,3))\n",
    "\n",
    "# Evaluate the classifier on the test data\n",
    "accuracy = evaluate_classifier(clf, vectorizer, preprocess_test, test_labels)\n",
    "\n",
    "# Print the accuracy score\n",
    "print(\"Accuracy:\", accuracy)\n",
    "analyze_features(10, clf, vectorizer)"
   ]
  },
  {
   "cell_type": "code",
   "execution_count": null,
   "metadata": {},
   "outputs": [
    {
     "name": "stdout",
     "output_type": "stream",
     "text": [
      "Accuracy: 0.5128690636077412\n",
      "Top 10 most significant textual features:\n",
      "['ct o', 'agyn', 'kdnp', ' cyc', 's em', 't ju', 'diru', ' pun', 'p ta', 'buti', 'ct o', 'agyn', 'kdnp', 's em', ' cyc', 't ju', 'buti', 'diru', ' pun', 'fixj', 'ct o', 'agyn', 'kdnp', 's em', ' cyc', 't ju', 'buti', 'diru', ' pun', 'om h', 'ct o', 'agyn', 'kdnp', 's em', ' cyc', 't ju', 'buti', 'diru', 'om h', ' pun']\n"
     ]
    }
   ],
   "source": [
    "# Train a classifier on the training data\n",
    "clf, vectorizer = train_classifier(preprocessed_train, train_labels, (4,4))\n",
    "\n",
    "# Evaluate the classifier on the test data\n",
    "accuracy = evaluate_classifier(clf, vectorizer, preprocess_test, test_labels)\n",
    "\n",
    "# Print the accuracy score\n",
    "print(\"Accuracy:\", accuracy)\n",
    "analyze_features(10, clf, vectorizer)"
   ]
  },
  {
   "cell_type": "code",
   "execution_count": null,
   "metadata": {},
   "outputs": [
    {
     "name": "stdout",
     "output_type": "stream",
     "text": [
      "Accuracy: 0.5582759050911146\n",
      "Top 10 most significant textual features:\n",
      "['at tc', 'ntere', 'b was', 's wfi', 'quiks', 'ehair', 'lay p', 'tly a', 'ayape', 'ubiqu', 'at tc', 'ntere', 'b was', 's wfi', 'lay p', 'quiks', 'ehair', 'nkisr', 'ayape', 'w das', 'at tc', 'ntere', 'b was', 's wfi', 'lay p', 'nkisr', 'ehair', 'iwine', 'ayape', 'quiks', 'at tc', 'ntere', 'b was', 's wfi', 'nkisr', 'lay p', 'ehair', 'iwine', 'w das', 'ayape']\n"
     ]
    }
   ],
   "source": [
    "# Train a classifier on the training data\n",
    "clf, vectorizer = train_classifier(preprocessed_train, train_labels, (5,5))\n",
    "\n",
    "# Evaluate the classifier on the test data\n",
    "accuracy = evaluate_classifier(clf, vectorizer, preprocess_test, test_labels)\n",
    "\n",
    "# Print the accuracy score\n",
    "print(\"Accuracy:\", accuracy)\n",
    "analyze_features(10, clf, vectorizer)"
   ]
  },
  {
   "cell_type": "code",
   "execution_count": null,
   "metadata": {},
   "outputs": [],
   "source": [
    "from sklearn.feature_extraction.text import TfidfVectorizer\n",
    "from sklearn.naive_bayes import MultinomialNB\n",
    "\n",
    "def train_word_classifier_tfidf(texts, labels):\n",
    "    # create a TfidfVectorizer with words\n",
    "    vectorizer = TfidfVectorizer(lowercase=False, stop_words=None)\n",
    "    X = vectorizer.fit_transform(texts)\n",
    "    # train the classifier and return it\n",
    "    clf = MultinomialNB()\n",
    "    clf.fit(X, labels)\n",
    "    return clf, vectorizer\n"
   ]
  },
  {
   "cell_type": "code",
   "execution_count": null,
   "metadata": {},
   "outputs": [
    {
     "name": "stdout",
     "output_type": "stream",
     "text": [
      "Accuracy: 0.5869643394467807\n",
      "Top 10 most significant textual features:\n",
      "['waorcaaknvidutazhimtwy', 'pinangatawanan', 'responsiblity', 'topicsquestions', 'ppk', 'dotnessyness', 'squashesmelonszucchiniscucumbers', 'wigglemunch', 'blkdeth', 'dazi', 'waorcaaknvidutazhimtwy', 'pinangatawanan', 'responsiblity', 'squashesmelonszucchiniscucumbers', 'wigglemunch', 'modissa', 'routerenable', 'ppk', 'dotnessyness', 'blkdeth', 'waorcaaknvidutazhimtwy', 'pinangatawanan', 'responsiblity', 'squashesmelonszucchiniscucumbers', 'routerenable', 'modissa', 'wigglemunch', 'dotnessyness', 'blkdeth', 'ppk', 'waorcaaknvidutazhimtwy', 'pinangatawanan', 'responsiblity', 'squashesmelonszucchiniscucumbers', 'routerenable', 'modissa', 'wigglemunch', 'blkdeth', 'dotnessyness', 'mittendorff']\n"
     ]
    }
   ],
   "source": [
    "# Train a classifier on the training data\n",
    "clf, vectorizer = train_word_classifier_tfidf(preprocessed_train, train_labels)\n",
    "\n",
    "# Evaluate the classifier on the test data\n",
    "accuracy = evaluate_classifier(clf, vectorizer, preprocess_test, test_labels)\n",
    "\n",
    "# Print the accuracy score\n",
    "print(\"Accuracy:\", accuracy)\n",
    "analyze_features(10, clf, vectorizer)"
   ]
  },
  {
   "cell_type": "code",
   "execution_count": 5,
   "metadata": {},
   "outputs": [
    {
     "data": {
      "text/html": [
       "<div>\n",
       "<style scoped>\n",
       "    .dataframe tbody tr th:only-of-type {\n",
       "        vertical-align: middle;\n",
       "    }\n",
       "\n",
       "    .dataframe tbody tr th {\n",
       "        vertical-align: top;\n",
       "    }\n",
       "\n",
       "    .dataframe thead th {\n",
       "        text-align: right;\n",
       "    }\n",
       "</style>\n",
       "<table border=\"1\" class=\"dataframe\">\n",
       "  <thead>\n",
       "    <tr style=\"text-align: right;\">\n",
       "      <th></th>\n",
       "      <th>id</th>\n",
       "      <th>gender</th>\n",
       "      <th>age</th>\n",
       "      <th>topic</th>\n",
       "      <th>sign</th>\n",
       "      <th>date</th>\n",
       "      <th>text</th>\n",
       "    </tr>\n",
       "  </thead>\n",
       "  <tbody>\n",
       "    <tr>\n",
       "      <th>0</th>\n",
       "      <td>2059027</td>\n",
       "      <td>male</td>\n",
       "      <td>15</td>\n",
       "      <td>Student</td>\n",
       "      <td>Leo</td>\n",
       "      <td>14,May,2004</td>\n",
       "      <td>Info has been found (+/- 100 pages,...</td>\n",
       "    </tr>\n",
       "    <tr>\n",
       "      <th>1</th>\n",
       "      <td>2059027</td>\n",
       "      <td>male</td>\n",
       "      <td>15</td>\n",
       "      <td>Student</td>\n",
       "      <td>Leo</td>\n",
       "      <td>13,May,2004</td>\n",
       "      <td>These are the team members:   Drewe...</td>\n",
       "    </tr>\n",
       "    <tr>\n",
       "      <th>2</th>\n",
       "      <td>2059027</td>\n",
       "      <td>male</td>\n",
       "      <td>15</td>\n",
       "      <td>Student</td>\n",
       "      <td>Leo</td>\n",
       "      <td>12,May,2004</td>\n",
       "      <td>In het kader van kernfusie op aarde...</td>\n",
       "    </tr>\n",
       "    <tr>\n",
       "      <th>3</th>\n",
       "      <td>2059027</td>\n",
       "      <td>male</td>\n",
       "      <td>15</td>\n",
       "      <td>Student</td>\n",
       "      <td>Leo</td>\n",
       "      <td>12,May,2004</td>\n",
       "      <td>testing!!!  testing!!!</td>\n",
       "    </tr>\n",
       "    <tr>\n",
       "      <th>4</th>\n",
       "      <td>3581210</td>\n",
       "      <td>male</td>\n",
       "      <td>33</td>\n",
       "      <td>InvestmentBanking</td>\n",
       "      <td>Aquarius</td>\n",
       "      <td>11,June,2004</td>\n",
       "      <td>Thanks to Yahoo!'s Toolbar I can ...</td>\n",
       "    </tr>\n",
       "  </tbody>\n",
       "</table>\n",
       "</div>"
      ],
      "text/plain": [
       "        id gender  age              topic      sign          date  \\\n",
       "0  2059027   male   15            Student       Leo   14,May,2004   \n",
       "1  2059027   male   15            Student       Leo   13,May,2004   \n",
       "2  2059027   male   15            Student       Leo   12,May,2004   \n",
       "3  2059027   male   15            Student       Leo   12,May,2004   \n",
       "4  3581210   male   33  InvestmentBanking  Aquarius  11,June,2004   \n",
       "\n",
       "                                                text  \n",
       "0             Info has been found (+/- 100 pages,...  \n",
       "1             These are the team members:   Drewe...  \n",
       "2             In het kader van kernfusie op aarde...  \n",
       "3                   testing!!!  testing!!!            \n",
       "4               Thanks to Yahoo!'s Toolbar I can ...  "
      ]
     },
     "execution_count": 5,
     "metadata": {},
     "output_type": "execute_result"
    }
   ],
   "source": [
    "import pandas as pd \n",
    "# Load the dataset\n",
    "data = pd.read_csv('../../../data/blogtext 2.csv')\n",
    "data.head()"
   ]
  },
  {
   "cell_type": "code",
   "execution_count": 7,
   "metadata": {},
   "outputs": [
    {
     "data": {
      "text/html": [
       "<div>\n",
       "<style scoped>\n",
       "    .dataframe tbody tr th:only-of-type {\n",
       "        vertical-align: middle;\n",
       "    }\n",
       "\n",
       "    .dataframe tbody tr th {\n",
       "        vertical-align: top;\n",
       "    }\n",
       "\n",
       "    .dataframe thead th {\n",
       "        text-align: right;\n",
       "    }\n",
       "</style>\n",
       "<table border=\"1\" class=\"dataframe\">\n",
       "  <thead>\n",
       "    <tr style=\"text-align: right;\">\n",
       "      <th></th>\n",
       "      <th>age</th>\n",
       "      <th>text</th>\n",
       "      <th>age_category</th>\n",
       "    </tr>\n",
       "  </thead>\n",
       "  <tbody>\n",
       "    <tr>\n",
       "      <th>0</th>\n",
       "      <td>15</td>\n",
       "      <td>Info has been found (+/- 100 pages, and 4.5 MB...</td>\n",
       "      <td>10s</td>\n",
       "    </tr>\n",
       "    <tr>\n",
       "      <th>1</th>\n",
       "      <td>15</td>\n",
       "      <td>These are the team members:   Drewes van der L...</td>\n",
       "      <td>10s</td>\n",
       "    </tr>\n",
       "    <tr>\n",
       "      <th>2</th>\n",
       "      <td>15</td>\n",
       "      <td>In het kader van kernfusie op aarde:  MAAK JE ...</td>\n",
       "      <td>10s</td>\n",
       "    </tr>\n",
       "    <tr>\n",
       "      <th>3</th>\n",
       "      <td>15</td>\n",
       "      <td>testing!!!  testing!!!</td>\n",
       "      <td>10s</td>\n",
       "    </tr>\n",
       "    <tr>\n",
       "      <th>4</th>\n",
       "      <td>33</td>\n",
       "      <td>Thanks to Yahoo!'s Toolbar I can now 'capture'...</td>\n",
       "      <td>30s</td>\n",
       "    </tr>\n",
       "  </tbody>\n",
       "</table>\n",
       "</div>"
      ],
      "text/plain": [
       "   age                                               text age_category\n",
       "0   15  Info has been found (+/- 100 pages, and 4.5 MB...          10s\n",
       "1   15  These are the team members:   Drewes van der L...          10s\n",
       "2   15  In het kader van kernfusie op aarde:  MAAK JE ...          10s\n",
       "3   15                             testing!!!  testing!!!          10s\n",
       "4   33  Thanks to Yahoo!'s Toolbar I can now 'capture'...          30s"
      ]
     },
     "execution_count": 7,
     "metadata": {},
     "output_type": "execute_result"
    }
   ],
   "source": [
    "data['text'] = data['text'].str.strip()\n",
    "data = data.drop(['id', 'gender', 'topic', 'sign', 'date'], axis = 1)\n",
    "data['age_category'] = pd.cut(data['age'], bins=[10, 19, 29, 39], labels=['10s', '20s', '30s'])\n",
    "data.head()"
   ]
  },
  {
   "cell_type": "code",
   "execution_count": 8,
   "metadata": {},
   "outputs": [
    {
     "data": {
      "image/png": "[encoded data removed]",
      "text/plain": [
       "<Figure size 640x480 with 1 Axes>"
      ]
     },
     "metadata": {},
     "output_type": "display_data"
    }
   ],
   "source": [
    "import matplotlib.pyplot as plt\n",
    "\n",
    "# Group the data by age category and count the number of occurrences\n",
    "counts = data.groupby('age_category').size()\n",
    "\n",
    "# Create a bar chart of the counts by age category\n",
    "plt.bar(counts.index, counts.values)\n",
    "\n",
    "# Set the axis labels and chart title\n",
    "plt.xlabel('Age Category')\n",
    "plt.ylabel('Count')\n",
    "plt.title('Distribution of Age Categories')\n",
    "\n",
    "# Show the chart\n",
    "plt.savefig('../../../images/blog_distribution.png')"
   ]
  },
  {
   "cell_type": "code",
   "execution_count": 10,
   "metadata": {},
   "outputs": [
    {
     "data": {
      "image/png": "[encoded data removed]",
      "text/plain": [
       "<Figure size 640x480 with 1 Axes>"
      ]
     },
     "metadata": {},
     "output_type": "display_data"
    }
   ],
   "source": [
    "import pandas as pd\n",
    "import matplotlib.pyplot as plt\n",
    "\n",
    "# Define the data points as tuples\n",
    "data = [\n",
    "    ((2,2), 0.4559),\n",
    "    ((3,3), 0.4816),\n",
    "    ((4,4), 0.5296),\n",
    "    ((5,5), 0.5787),\n",
    "    ((6,6), 0.6175),\n",
    "    ((7,7), 0.6405)\n",
    "    \n",
    "]\n",
    "\n",
    "# Create a DataFrame from the data\n",
    "df = pd.DataFrame(data, columns=['coordinates', 'values'])\n",
    "\n",
    "# Set the coordinates column as the index and split into separate columns\n",
    "df[['x', 'y']] = pd.DataFrame(df['coordinates'].tolist(), index=df.index)\n",
    "\n",
    "# Create a line plot of the values by x coordinate\n",
    "plt.plot(df['x'], df['values'], marker='o')\n",
    "\n",
    "# Add a horizontal line at y=0.6405\n",
    "plt.axhline(y=0.6376, color='red', linestyle='--')\n",
    "\n",
    "# Set the axis labels and chart title\n",
    "plt.xlabel('N-gram')\n",
    "plt.ylabel('Accuracy')\n",
    "plt.title('Blog N-grams')\n",
    "\n",
    "# Show the chart\n",
    "plt.savefig('../../../images/blog_n_grams.png')"
   ]
  },
  {
   "cell_type": "markdown",
   "metadata": {},
   "source": []
  }
 ],
 "metadata": {
  "kernelspec": {
   "display_name": "Python 3",
   "language": "python",
   "name": "python3"
  },
  "language_info": {
   "codemirror_mode": {
    "name": "ipython",
    "version": 3
   },
   "file_extension": ".py",
   "mimetype": "text/x-python",
   "name": "python",
   "nbconvert_exporter": "python",
   "pygments_lexer": "ipython3",
   "version": "3.9.6"
  },
  "orig_nbformat": 4,
  "vscode": {
   "interpreter": {
    "hash": "31f2aee4e71d21fbe5cf8b01ff0e069b9275f58929596ceb00d14d90e3e16cd6"
   }
  }
 },
 "nbformat": 4,
 "nbformat_minor": 2
}
