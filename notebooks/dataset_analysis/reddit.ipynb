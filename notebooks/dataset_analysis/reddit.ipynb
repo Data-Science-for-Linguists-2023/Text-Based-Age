{
 "cells": [
  {
   "attachments": {},
   "cell_type": "markdown",
   "metadata": {},
   "source": [
    "## TODO\n",
    "\n",
    "Here's the vision for the upcoming work in the notebook --\n",
    "\n",
    "- CountVectorizer (vector representation of text) on N-grams (vary the N)\n",
    "- Train a Naive Bayes Classifier\n",
    "- Look at most significant features\n",
    "- Iteratively improve feature selection\n",
    "\n",
    "The script to do this work is contained in `/scripts/`, I just need to integrate the analysis pipeline into the data pipeline. Here's a trivial example."
   ]
  },
  {
   "cell_type": "code",
   "execution_count": 2,
   "metadata": {},
   "outputs": [
    {
     "name": "stdout",
     "output_type": "stream",
     "text": [
      "['10s']\n"
     ]
    }
   ],
   "source": [
    "import sys\n",
    "sys.path.insert(0, '../..')\n",
    "from scripts import classify\n",
    "\n",
    "texts = [\"I am in my twenties\", \"I am Thirty\", \"I am a teenager\"]\n",
    "labels = [\"20s\", \"30s\", \"10s\"]\n",
    "\n",
    "# Train classifier\n",
    "clf, vectorizer = classify.train_classifier(texts, labels)\n",
    "\n",
    "# make prediction\n",
    "new_text = \"No way, I'm a teen too\"\n",
    "predicted_age_group = classify.predict_age_group(clf, vectorizer, new_text)\n",
    "\n",
    "print(predicted_age_group)\n"
   ]
  },
  {
   "cell_type": "code",
   "execution_count": null,
   "metadata": {},
   "outputs": [],
   "source": []
  }
 ],
 "metadata": {
  "kernelspec": {
   "display_name": "Python 3",
   "language": "python",
   "name": "python3"
  },
  "language_info": {
   "codemirror_mode": {
    "name": "ipython",
    "version": 3
   },
   "file_extension": ".py",
   "mimetype": "text/x-python",
   "name": "python",
   "nbconvert_exporter": "python",
   "pygments_lexer": "ipython3",
   "version": "3.9.6"
  },
  "orig_nbformat": 4,
  "vscode": {
   "interpreter": {
    "hash": "31f2aee4e71d21fbe5cf8b01ff0e069b9275f58929596ceb00d14d90e3e16cd6"
   }
  }
 },
 "nbformat": 4,
 "nbformat_minor": 2
}
